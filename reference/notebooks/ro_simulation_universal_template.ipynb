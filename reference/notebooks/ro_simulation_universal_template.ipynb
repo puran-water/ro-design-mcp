{
 "cells": [
  {
   "cell_type": "markdown",
   "metadata": {},
   "source": [
    "# Universal RO System Simulation Engine\n",
    "\n",
    "This notebook serves as a universal simulation engine for RO systems, leveraging modular utility functions.\n",
    "It supports multiple property packages (NaCl, MCAS) and simulation strategies."
   ]
  },
  {
   "cell_type": "code",
   "execution_count": null,
   "metadata": {
    "tags": ["parameters"]
   },
   "outputs": [],
   "source": [
    "# Parameters cell - will be replaced by papermill\n",
    "project_root = \"/path/to/project\"  # Will be replaced by papermill\n",
    "configuration = {}  # RO configuration from optimization\n",
    "feed_salinity_ppm = 5000\n",
    "feed_temperature_c = 25.0\n",
    "membrane_type = \"brackish\"\n",
    "membrane_properties = None\n",
    "optimize_pumps = False\n",
    "feed_ion_composition = None  # JSON string or dict for MCAS\n",
    "property_package = \"auto\"  # \"nacl\", \"mcas\", or \"auto\"\n",
    "initialization_strategy = \"sequential\"  # \"sequential\", \"block_triangular\", \"custom_guess\", \"relaxation\""
   ]
  },
  {
   "cell_type": "markdown",
   "metadata": {},
   "source": [
    "## Setup and Imports"
   ]
  },
  {
   "cell_type": "code",
   "execution_count": null,
   "metadata": {},
   "outputs": [],
   "source": [
    "# System imports\n",
    "import sys\n",
    "import os\n",
    "import json\n",
    "import warnings\n",
    "from pathlib import Path\n",
    "\n",
    "# Add project root to path\n",
    "sys.path.insert(0, project_root)\n",
    "\n",
    "# Import all utility modules\n",
    "from utils.mcas_builder import (\n",
    "    build_mcas_property_configuration,\n",
    "    check_electroneutrality,\n",
    "    get_total_dissolved_solids,\n",
    "    calculate_ionic_strength\n",
    ")\n",
    "from utils.ro_model_builder import build_ro_model_mcas\n",
    "from utils.ro_initialization import (\n",
    "    initialize_multistage_ro_elegant,\n",
    "    get_stream_tds_ppm\n",
    ")\n",
    "from utils.ro_solver import (\n",
    "    initialize_and_solve_mcas,\n",
    "    initialize_model_advanced\n",
    ")\n",
    "from utils.ro_results_extractor import extract_results_mcas\n",
    "from utils.scaling_prediction import (\n",
    "    predict_scaling_potential,\n",
    "    get_antiscalant_recommendation\n",
    ")\n",
    "from utils.simulate_ro import (\n",
    "    run_ro_simulation,\n",
    "    calculate_lcow,\n",
    "    estimate_capital_cost\n",
    ")\n",
    "from utils.validation import validate_ion_composition\n",
    "from utils.response_formatter import format_simulation_response\n",
    "from utils.config import get_config\n",
    "from utils.logging_config import get_configured_logger\n",
    "\n",
    "# Configure logging\n",
    "logger = get_configured_logger(__name__)\n",
    "warnings.filterwarnings('ignore')\n",
    "\n",
    "# Results storage\n",
    "results = {}"
   ]
  },
  {
   "cell_type": "markdown",
   "metadata": {},
   "source": [
    "## Determine Property Package"
   ]
  },
  {
   "cell_type": "code",
   "execution_count": null,
   "metadata": {},
   "outputs": [],
   "source": [
    "# Determine which property package to use\n",
    "if property_package == \"auto\":\n",
    "    # Auto-detect based on feed composition\n",
    "    if feed_ion_composition:\n",
    "        property_package = \"mcas\"\n",
    "        logger.info(\"Auto-selected MCAS property package based on ion composition\")\n",
    "    else:\n",
    "        property_package = \"nacl\"\n",
    "        logger.info(\"Auto-selected NaCl property package (no ion composition provided)\")\n",
    "\n",
    "print(f\"Using property package: {property_package}\")\n",
    "print(f\"Initialization strategy: {initialization_strategy}\")"
   ]
  },
  {
   "cell_type": "markdown",
   "metadata": {},
   "source": [
    "## Validate and Prepare Inputs"
   ]
  },
  {
   "cell_type": "code",
   "execution_count": null,
   "metadata": {},
   "outputs": [],
   "source": [
    "# Validate configuration\n",
    "if not isinstance(configuration, dict) or \"stages\" not in configuration:\n",
    "    raise ValueError(\"Invalid configuration provided\")\n",
    "\n",
    "# Parse ion composition if provided\n",
    "parsed_ion_composition = None\n",
    "if feed_ion_composition:\n",
    "    if isinstance(feed_ion_composition, str):\n",
    "        parsed_ion_composition = json.loads(feed_ion_composition)\n",
    "    else:\n",
    "        parsed_ion_composition = feed_ion_composition\n",
    "    \n",
    "    # Validate ion composition\n",
    "    validate_ion_composition(parsed_ion_composition)\n",
    "\n",
    "# Add feed_flow_m3h to configuration if missing\n",
    "if \"feed_flow_m3h\" not in configuration:\n",
    "    if \"recycle_info\" in configuration and \"effective_feed_flow_m3h\" in configuration[\"recycle_info\"]:\n",
    "        configuration[\"feed_flow_m3h\"] = configuration[\"recycle_info\"][\"effective_feed_flow_m3h\"]\n",
    "    elif \"stages\" in configuration and configuration[\"stages\"]:\n",
    "        first_stage = configuration[\"stages\"][0]\n",
    "        if \"feed_flow_m3h\" in first_stage:\n",
    "            configuration[\"feed_flow_m3h\"] = first_stage[\"feed_flow_m3h\"]\n",
    "        else:\n",
    "            configuration[\"feed_flow_m3h\"] = 100.0\n",
    "    else:\n",
    "        configuration[\"feed_flow_m3h\"] = 100.0\n",
    "\n",
    "print(f\"Configuration: {configuration['array_notation']}\")\n",
    "print(f\"Feed flow: {configuration['feed_flow_m3h']} m³/h\")\n",
    "print(f\"Feed salinity: {feed_salinity_ppm} ppm\")\n",
    "print(f\"Feed temperature: {feed_temperature_c}°C\")"
   ]
  },
  {
   "cell_type": "markdown",
   "metadata": {},
   "source": [
    "## Run Simulation Using Utility Functions"
   ]
  },
  {
   "cell_type": "code",
   "execution_count": null,
   "metadata": {},
   "outputs": [],
   "source": [
    "# Run the simulation using the modular utility function\n",
    "try:\n",
    "    logger.info(f\"Starting {property_package.upper()} simulation...\")\n",
    "    \n",
    "    # Use the centralized simulation function\n",
    "    sim_results = run_ro_simulation(\n",
    "        configuration=configuration,\n",
    "        feed_salinity_ppm=feed_salinity_ppm,\n",
    "        feed_ion_composition=parsed_ion_composition,\n",
    "        feed_temperature_c=feed_temperature_c,\n",
    "        membrane_type=membrane_type,\n",
    "        membrane_properties=membrane_properties,\n",
    "        optimize_pumps=optimize_pumps,\n",
    "        use_nacl_equivalent=(property_package == \"nacl\"),\n",
    "        initialization_strategy=initialization_strategy\n",
    "    )\n",
    "    \n",
    "    # Format results for output\n",
    "    results = format_simulation_response(sim_results)\n",
    "    results[\"property_package\"] = property_package\n",
    "    results[\"initialization_strategy\"] = initialization_strategy\n",
    "    \n",
    "    logger.info(\"Simulation completed successfully\")\n",
    "    \n",
    "except Exception as e:\n",
    "    logger.error(f\"Simulation failed: {str(e)}\", exc_info=True)\n",
    "    results = {\n",
    "        \"status\": \"error\",\n",
    "        \"message\": f\"Simulation failed: {str(e)}\",\n",
    "        \"error_type\": type(e).__name__,\n",
    "        \"property_package\": property_package,\n",
    "        \"initialization_strategy\": initialization_strategy\n",
    "    }"
   ]
  },
  {
   "cell_type": "markdown",
   "metadata": {},
   "source": [
    "## Display Results Summary"
   ]
  },
  {
   "cell_type": "code",
   "execution_count": null,
   "metadata": {},
   "outputs": [],
   "source": [
    "# Display results summary\n",
    "print(\"\\n\" + \"=\"*60)\n",
    "print(f\"SIMULATION RESULTS - {property_package.upper()} MODEL\")\n",
    "print(\"=\"*60)\n",
    "\n",
    "if results.get(\"status\") == \"success\":\n",
    "    print(f\"\\nOverall Performance:\")\n",
    "    print(f\"  Total Recovery: {results['performance']['system_recovery']:.1%}\")\n",
    "    print(f\"  Specific Energy: {results['economics']['specific_energy_kwh_m3']:.2f} kWh/m³\")\n",
    "    print(f\"  Total Power: {results['economics']['total_power_kw']:.1f} kW\")\n",
    "    print(f\"  LCOW: ${results['economics'].get('lcow_usd_m3', 0):.2f}/m³\")\n",
    "    \n",
    "    if \"ion_analysis\" in results and results[\"ion_analysis\"]:\n",
    "        print(f\"\\nIon Rejection:\")\n",
    "        for ion, rejection in results['ion_analysis'].get('overall_rejection', {}).items():\n",
    "            print(f\"  {ion:8s}: {rejection:.1%}\")\n",
    "    \n",
    "    print(f\"\\nStage Summary:\")\n",
    "    for i, stage in enumerate(results['stage_results'], 1):\n",
    "        print(f\"  Stage {i}: {stage['feed_pressure_bar']:.1f} bar, \"\n",
    "              f\"Recovery {stage['water_recovery']:.1%}, \"\n",
    "              f\"Permeate {stage['permeate_tds_ppm']:.0f} ppm\")\n",
    "        \n",
    "        # Show scaling warnings if any\n",
    "        if stage.get('scaling_indices'):\n",
    "            high_risk = [k for k, v in stage['scaling_indices'].items() if v > 0]\n",
    "            if high_risk:\n",
    "                print(f\"    ⚠️  Scaling risk: {', '.join(high_risk)}\")\n",
    "else:\n",
    "    print(f\"\\n❌ Simulation failed: {results.get('message', 'Unknown error')}\")"
   ]
  },
  {
   "cell_type": "markdown",
   "metadata": {},
   "source": [
    "## Export Full Results"
   ]
  },
  {
   "cell_type": "code",
   "execution_count": null,
   "metadata": {
    "tags": ["results"]
   },
   "outputs": [],
   "source": [
    "# Results cell - tagged for papermill to extract\n",
    "results"
   ]
  },
  {
   "cell_type": "markdown",
   "metadata": {},
   "source": [
    "## Optional: Save Results to File"
   ]
  },
  {
   "cell_type": "code",
   "execution_count": null,
   "metadata": {},
   "outputs": [],
   "source": [
    "# Optionally save results to JSON file\n",
    "if results.get(\"status\") == \"success\":\n",
    "    import json\n",
    "    from datetime import datetime\n",
    "    \n",
    "    timestamp = datetime.now().strftime(\"%Y%m%d_%H%M%S\")\n",
    "    output_file = Path(project_root) / \"results\" / f\"simulation_results_{timestamp}.json\"\n",
    "    \n",
    "    with open(output_file, 'w') as f:\n",
    "        json.dump(results, f, indent=2, default=str)\n",
    "    \n",
    "    print(f\"\\nResults saved to: {output_file}\")"
   ]
  }
 ],
 "metadata": {
  "kernelspec": {
   "display_name": "Python 3",
   "language": "python",
   "name": "python3"
  },
  "language_info": {
   "codemirror_mode": {
    "name": "ipython",
    "version": 3
   },
   "file_extension": ".py",
   "mimetype": "text/x-python",
   "name": "python",
   "nbconvert_exporter": "python",
   "pygments_lexer": "ipython3",
   "version": "3.8.0"
  },
  "celltoolbar": "Tags"
 },
 "nbformat": 4,
 "nbformat_minor": 4
}