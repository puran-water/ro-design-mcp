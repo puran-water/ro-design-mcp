{
 "cells": [
  {
   "cell_type": "markdown",
   "id": "e34b79ee",
   "metadata": {
    "papermill": {
     "duration": 0.012479,
     "end_time": "2025-07-20T18:24:56.230702",
     "exception": false,
     "start_time": "2025-07-20T18:24:56.218223",
     "status": "completed"
    },
    "tags": []
   },
   "source": [
    "# RO System Simulation Engine with MCAS\n",
    "\n",
    "This notebook serves as a simulation engine for RO systems using the MCAS property package,\n",
    "leveraging modular utility functions for maintainability and consistency."
   ]
  },
  {
   "cell_type": "code",
   "execution_count": 1,
   "id": "0bf5e8e1",
   "metadata": {
    "execution": {
     "iopub.execute_input": "2025-07-20T18:24:56.250317Z",
     "iopub.status.busy": "2025-07-20T18:24:56.250317Z",
     "iopub.status.idle": "2025-07-20T18:24:56.261260Z",
     "shell.execute_reply": "2025-07-20T18:24:56.259785Z"
    },
    "papermill": {
     "duration": 0.024794,
     "end_time": "2025-07-20T18:24:56.264138",
     "exception": false,
     "start_time": "2025-07-20T18:24:56.239344",
     "status": "completed"
    },
    "tags": [
     "parameters"
    ]
   },
   "outputs": [],
   "source": [
    "# Parameters cell - will be replaced by papermill\n",
    "project_root = \"/path/to/project\"  # Will be replaced by papermill\n",
    "configuration = {}  # RO configuration from optimization\n",
    "feed_salinity_ppm = 5000\n",
    "feed_temperature_c = 25.0\n",
    "membrane_type = \"brackish\"\n",
    "membrane_properties = None\n",
    "optimize_pumps = False\n",
    "feed_ion_composition = None  # JSON string with ion concentrations in mg/L\n",
    "initialization_strategy = \"sequential\"  # \"sequential\", \"block_triangular\", \"custom_guess\", \"relaxation\""
   ]
  },
  {
   "cell_type": "code",
   "execution_count": 2,
   "id": "e7972e61",
   "metadata": {
    "execution": {
     "iopub.execute_input": "2025-07-20T18:24:56.284782Z",
     "iopub.status.busy": "2025-07-20T18:24:56.283781Z",
     "iopub.status.idle": "2025-07-20T18:24:56.294419Z",
     "shell.execute_reply": "2025-07-20T18:24:56.293123Z"
    },
    "papermill": {
     "duration": 0.025203,
     "end_time": "2025-07-20T18:24:56.296443",
     "exception": false,
     "start_time": "2025-07-20T18:24:56.271240",
     "status": "completed"
    },
    "tags": [
     "injected-parameters"
    ]
   },
   "outputs": [],
   "source": [
    "# Parameters\n",
    "project_root = \"C:\\\\Users\\\\hvksh\\\\mcp-servers\\\\ro-design-mcp\"\n",
    "configuration = {\n",
    "    \"stage_count\": 2,\n",
    "    \"array_notation\": \"12:5\",\n",
    "    \"total_vessels\": 17,\n",
    "    \"total_membrane_area_m2\": 4422.04,\n",
    "    \"achieved_recovery\": 0.75,\n",
    "    \"stages\": [\n",
    "        {\n",
    "            \"stage_number\": 1,\n",
    "            \"vessel_count\": 12,\n",
    "            \"feed_flow_m3h\": 100.0,\n",
    "            \"membrane_area_m2\": 3121.44,\n",
    "            \"stage_recovery\": 0.56,\n",
    "        },\n",
    "        {\n",
    "            \"stage_number\": 2,\n",
    "            \"vessel_count\": 5,\n",
    "            \"feed_flow_m3h\": 44.0,\n",
    "            \"membrane_area_m2\": 1300.6,\n",
    "            \"stage_recovery\": 0.44,\n",
    "        },\n",
    "    ],\n",
    "}\n",
    "feed_salinity_ppm = 5000\n",
    "feed_ion_composition = \"{\\\"Na+\\\": 1968, \\\"Cl-\\\": 3032}\"\n",
    "feed_temperature_c = 25.0\n",
    "membrane_type = \"brackish\"\n",
    "membrane_properties = None\n",
    "optimize_pumps = False\n",
    "initialization_strategy = \"sequential\"\n"
   ]
  },
  {
   "cell_type": "markdown",
   "id": "897955e5",
   "metadata": {
    "papermill": {
     "duration": 0.008259,
     "end_time": "2025-07-20T18:24:56.313466",
     "exception": false,
     "start_time": "2025-07-20T18:24:56.305207",
     "status": "completed"
    },
    "tags": []
   },
   "source": [
    "## Setup and Imports"
   ]
  },
  {
   "cell_type": "code",
   "execution_count": 3,
   "id": "70e0c07e",
   "metadata": {
    "execution": {
     "iopub.execute_input": "2025-07-20T18:24:56.332245Z",
     "iopub.status.busy": "2025-07-20T18:24:56.331706Z",
     "iopub.status.idle": "2025-07-20T18:25:08.160926Z",
     "shell.execute_reply": "2025-07-20T18:25:08.159853Z"
    },
    "papermill": {
     "duration": 11.842264,
     "end_time": "2025-07-20T18:25:08.162083",
     "exception": false,
     "start_time": "2025-07-20T18:24:56.319819",
     "status": "completed"
    },
    "tags": []
   },
   "outputs": [],
   "source": [
    "# System imports\n",
    "import sys\n",
    "import os\n",
    "import json\n",
    "import warnings\n",
    "from pathlib import Path\n",
    "\n",
    "# Add project root to path\n",
    "sys.path.insert(0, project_root)\n",
    "\n",
    "# Import all utility modules for MCAS simulation\n",
    "from utils.mcas_builder import (\n",
    "    build_mcas_property_configuration,\n",
    "    check_electroneutrality,\n",
    "    get_total_dissolved_solids,\n",
    "    calculate_ionic_strength\n",
    ")\n",
    "from utils.ro_model_builder import build_ro_model_mcas\n",
    "from utils.ro_initialization import initialize_multistage_ro_elegant\n",
    "from utils.ro_solver import initialize_and_solve_mcas\n",
    "from utils.ro_results_extractor import extract_results_mcas\n",
    "from utils.response_formatter import format_simulation_response\n",
    "from utils.config import get_config\n",
    "from utils.logging_config import get_configured_logger\n",
    "\n",
    "# Configure logging\n",
    "logger = get_configured_logger(__name__)\n",
    "warnings.filterwarnings('ignore')\n",
    "\n",
    "# Results storage\n",
    "results = {}"
   ]
  },
  {
   "cell_type": "markdown",
   "id": "7ba2bf3c",
   "metadata": {
    "papermill": {
     "duration": 0.00863,
     "end_time": "2025-07-20T18:25:08.177955",
     "exception": false,
     "start_time": "2025-07-20T18:25:08.169325",
     "status": "completed"
    },
    "tags": []
   },
   "source": [
    "## Validate and Prepare Ion Composition"
   ]
  },
  {
   "cell_type": "code",
   "execution_count": 4,
   "id": "4ce8342f",
   "metadata": {
    "execution": {
     "iopub.execute_input": "2025-07-20T18:25:08.194793Z",
     "iopub.status.busy": "2025-07-20T18:25:08.192856Z",
     "iopub.status.idle": "2025-07-20T18:25:08.211699Z",
     "shell.execute_reply": "2025-07-20T18:25:08.210180Z"
    },
    "papermill": {
     "duration": 0.029945,
     "end_time": "2025-07-20T18:25:08.213713",
     "exception": false,
     "start_time": "2025-07-20T18:25:08.183768",
     "status": "completed"
    },
    "tags": []
   },
   "outputs": [
    {
     "name": "stdout",
     "output_type": "stream",
     "text": [
      "Configuration: 12:5\n",
      "Feed flow: 100.0 m³/h\n",
      "Feed salinity: 5000 ppm\n",
      "Feed temperature: 25.0°C\n",
      "Initialization strategy: sequential\n"
     ]
    }
   ],
   "source": [
    "# Validate configuration\n",
    "if not isinstance(configuration, dict) or \"stages\" not in configuration:\n",
    "    raise ValueError(\"Invalid configuration provided\")\n",
    "\n",
    "# Parse and validate ion composition (required for MCAS)\n",
    "if not feed_ion_composition:\n",
    "    raise ValueError(\"Ion composition is required for MCAS simulation\")\n",
    "\n",
    "if isinstance(feed_ion_composition, str):\n",
    "    parsed_ion_composition = json.loads(feed_ion_composition)\n",
    "else:\n",
    "    parsed_ion_composition = feed_ion_composition\n",
    "\n",
    "# Basic validation of ion composition\n",
    "if not isinstance(parsed_ion_composition, dict):\n",
    "    raise ValueError(\"Ion composition must be a dictionary\")\n",
    "\n",
    "for ion, conc in parsed_ion_composition.items():\n",
    "    if not isinstance(conc, (int, float)) or conc < 0:\n",
    "        raise ValueError(f\"Invalid concentration for {ion}: {conc}\")\n",
    "\n",
    "# Add feed_flow_m3h to configuration if missing\n",
    "if \"feed_flow_m3h\" not in configuration:\n",
    "    if \"recycle_info\" in configuration and \"effective_feed_flow_m3h\" in configuration[\"recycle_info\"]:\n",
    "        configuration[\"feed_flow_m3h\"] = configuration[\"recycle_info\"][\"effective_feed_flow_m3h\"]\n",
    "    elif \"stages\" in configuration and configuration[\"stages\"]:\n",
    "        first_stage = configuration[\"stages\"][0]\n",
    "        if \"feed_flow_m3h\" in first_stage:\n",
    "            configuration[\"feed_flow_m3h\"] = first_stage[\"feed_flow_m3h\"]\n",
    "        else:\n",
    "            configuration[\"feed_flow_m3h\"] = 100.0\n",
    "    else:\n",
    "        configuration[\"feed_flow_m3h\"] = 100.0\n",
    "\n",
    "print(f\"Configuration: {configuration.get('array_notation', 'Unknown')}\")\n",
    "print(f\"Feed flow: {configuration['feed_flow_m3h']} m³/h\")\n",
    "print(f\"Feed salinity: {feed_salinity_ppm} ppm\")\n",
    "print(f\"Feed temperature: {feed_temperature_c}°C\")\n",
    "print(f\"Initialization strategy: {initialization_strategy}\")"
   ]
  },
  {
   "cell_type": "markdown",
   "id": "fc0e5622",
   "metadata": {
    "papermill": {
     "duration": 0.008997,
     "end_time": "2025-07-20T18:25:08.231837",
     "exception": false,
     "start_time": "2025-07-20T18:25:08.222840",
     "status": "completed"
    },
    "tags": []
   },
   "source": [
    "## Build MCAS Property Configuration"
   ]
  },
  {
   "cell_type": "code",
   "execution_count": 5,
   "id": "d18a3756",
   "metadata": {
    "execution": {
     "iopub.execute_input": "2025-07-20T18:25:08.251088Z",
     "iopub.status.busy": "2025-07-20T18:25:08.250077Z",
     "iopub.status.idle": "2025-07-20T18:25:08.265425Z",
     "shell.execute_reply": "2025-07-20T18:25:08.264896Z"
    },
    "papermill": {
     "duration": 0.028278,
     "end_time": "2025-07-20T18:25:08.268438",
     "exception": false,
     "start_time": "2025-07-20T18:25:08.240160",
     "status": "completed"
    },
    "tags": []
   },
   "outputs": [
    {
     "name": "stderr",
     "output_type": "stream",
     "text": [
      "Unknown ion: Na+\n"
     ]
    },
    {
     "name": "stderr",
     "output_type": "stream",
     "text": [
      "Unknown ion: Cl-\n"
     ]
    },
    {
     "name": "stdout",
     "output_type": "stream",
     "text": [
      "\n",
      "Feed Ion Composition (mg/L):\n",
      "  Cl-     :   3032.0\n",
      "  Na+     :   1968.0\n",
      "\n",
      "Charge balance: OK\n",
      "\n",
      "Total TDS: 5000 mg/L\n",
      "Ionic strength: 0.000 mol/L\n",
      "\n",
      "MCAS components: Na_+, Cl_-\n"
     ]
    }
   ],
   "source": [
    "# Build MCAS property configuration from ion composition\n",
    "mcas_config = build_mcas_property_configuration(\n",
    "    feed_composition=parsed_ion_composition,\n",
    "    include_scaling_ions=True,\n",
    "    include_ph_species=True\n",
    ")\n",
    "\n",
    "# Display ion composition analysis\n",
    "print(\"\\nFeed Ion Composition (mg/L):\")\n",
    "for ion, conc in sorted(parsed_ion_composition.items()):\n",
    "    print(f\"  {ion:8s}: {conc:8.1f}\")\n",
    "\n",
    "# Check electroneutrality\n",
    "is_neutral, imbalance = check_electroneutrality(parsed_ion_composition)\n",
    "if not is_neutral:\n",
    "    print(f\"\\nWarning: Charge imbalance of {imbalance:.1%}\")\n",
    "else:\n",
    "    print(\"\\nCharge balance: OK\")\n",
    "\n",
    "# Calculate properties\n",
    "actual_tds = get_total_dissolved_solids(parsed_ion_composition)\n",
    "ionic_strength = calculate_ionic_strength(parsed_ion_composition)\n",
    "\n",
    "print(f\"\\nTotal TDS: {actual_tds:.0f} mg/L\")\n",
    "print(f\"Ionic strength: {ionic_strength:.3f} mol/L\")\n",
    "print(f\"\\nMCAS components: {', '.join(mcas_config['solute_list'])}\")"
   ]
  },
  {
   "cell_type": "markdown",
   "id": "28d16011",
   "metadata": {
    "papermill": {
     "duration": 0.006762,
     "end_time": "2025-07-20T18:25:08.283322",
     "exception": false,
     "start_time": "2025-07-20T18:25:08.276560",
     "status": "completed"
    },
    "tags": []
   },
   "source": [
    "## Build and Initialize Model"
   ]
  },
  {
   "cell_type": "code",
   "execution_count": 6,
   "id": "91b000ee",
   "metadata": {
    "execution": {
     "iopub.execute_input": "2025-07-20T18:25:08.299014Z",
     "iopub.status.busy": "2025-07-20T18:25:08.299014Z",
     "iopub.status.idle": "2025-07-20T18:25:08.806948Z",
     "shell.execute_reply": "2025-07-20T18:25:08.805932Z"
    },
    "papermill": {
     "duration": 0.519906,
     "end_time": "2025-07-20T18:25:08.810059",
     "exception": false,
     "start_time": "2025-07-20T18:25:08.290153",
     "status": "completed"
    },
    "tags": []
   },
   "outputs": [
    {
     "name": "stdout",
     "output_type": "stream",
     "text": [
      "2025-07-20 14:25:08 [WARNING] idaes.core.util.scaling: Missing scaling factor for fs.pump1.control_volume.work\n"
     ]
    },
    {
     "name": "stdout",
     "output_type": "stream",
     "text": [
      "2025-07-20 14:25:08 [WARNING] idaes.core.util.scaling: Missing scaling factor for fs.ro_stage1.area\n"
     ]
    },
    {
     "name": "stdout",
     "output_type": "stream",
     "text": [
      "2025-07-20 14:25:08 [WARNING] idaes.core.util.scaling: Missing scaling factor for fs.pump2.control_volume.work\n"
     ]
    },
    {
     "name": "stdout",
     "output_type": "stream",
     "text": [
      "2025-07-20 14:25:08 [WARNING] idaes.core.util.scaling: Missing scaling factor for fs.ro_stage2.area\n"
     ]
    },
    {
     "name": "stdout",
     "output_type": "stream",
     "text": [
      "Model built successfully with 2 stages"
     ]
    },
    {
     "name": "stdout",
     "output_type": "stream",
     "text": [
      "\n"
     ]
    }
   ],
   "source": [
    "# Build the RO model with MCAS\n",
    "logger.info(\"Building RO model with MCAS property package...\")\n",
    "\n",
    "model = build_ro_model_mcas(\n",
    "    config_data=configuration,\n",
    "    mcas_config=mcas_config,\n",
    "    feed_salinity_ppm=feed_salinity_ppm,\n",
    "    feed_temperature_c=feed_temperature_c,\n",
    "    membrane_type=membrane_type,\n",
    "    membrane_properties=membrane_properties\n",
    ")\n",
    "\n",
    "print(f\"Model built successfully with {configuration['stage_count']} stages\")"
   ]
  },
  {
   "cell_type": "markdown",
   "id": "965e91e3",
   "metadata": {
    "papermill": {
     "duration": 0.010523,
     "end_time": "2025-07-20T18:25:08.831152",
     "exception": false,
     "start_time": "2025-07-20T18:25:08.820629",
     "status": "completed"
    },
    "tags": []
   },
   "source": [
    "## Solve Model"
   ]
  },
  {
   "cell_type": "code",
   "execution_count": 7,
   "id": "a388184b",
   "metadata": {
    "execution": {
     "iopub.execute_input": "2025-07-20T18:25:08.856705Z",
     "iopub.status.busy": "2025-07-20T18:25:08.856705Z",
     "iopub.status.idle": "2025-07-20T18:25:14.894675Z",
     "shell.execute_reply": "2025-07-20T18:25:14.893662Z"
    },
    "papermill": {
     "duration": 6.052514,
     "end_time": "2025-07-20T18:25:14.896674",
     "exception": false,
     "start_time": "2025-07-20T18:25:08.844160",
     "status": "completed"
    },
    "tags": []
   },
   "outputs": [
    {
     "name": "stdout",
     "output_type": "stream",
     "text": [
      "2025-07-20 14:25:08 [INFO] idaes.init.fs.fresh_feed: Initialization Complete.\n"
     ]
    },
    {
     "name": "stdout",
     "output_type": "stream",
     "text": [
      "2025-07-20 14:25:09 [INFO] idaes.init.fs.pump1.control_volume: Initialization Complete\n"
     ]
    },
    {
     "name": "stdout",
     "output_type": "stream",
     "text": [
      "2025-07-20 14:25:09 [INFO] idaes.init.fs.pump1: Initialization Complete: optimal - Optimal Solution Found\n"
     ]
    },
    {
     "name": "stdout",
     "output_type": "stream",
     "text": [
      "2025-07-20 14:25:10 [INFO] idaes.init.fs.ro_stage1.feed_side: Initialization Complete\n"
     ]
    },
    {
     "name": "stdout",
     "output_type": "stream",
     "text": [
      "2025-07-20 14:25:12 [INFO] idaes.init.fs.ro_stage1: Initialization Complete: optimal - Optimal Solution Found\n"
     ]
    },
    {
     "name": "stdout",
     "output_type": "stream",
     "text": [
      "2025-07-20 14:25:12 [INFO] idaes.init.fs.stage_product1: Initialization Complete.\n"
     ]
    },
    {
     "name": "stdout",
     "output_type": "stream",
     "text": [
      "2025-07-20 14:25:12 [INFO] idaes.init.fs.pump2.control_volume: Initialization Complete\n"
     ]
    },
    {
     "name": "stdout",
     "output_type": "stream",
     "text": [
      "2025-07-20 14:25:12 [INFO] idaes.init.fs.pump2: Initialization Complete: optimal - Optimal Solution Found\n"
     ]
    },
    {
     "name": "stdout",
     "output_type": "stream",
     "text": [
      "2025-07-20 14:25:12 [INFO] idaes.init.fs.ro_stage2.feed_side: Initialization Complete\n"
     ]
    },
    {
     "name": "stdout",
     "output_type": "stream",
     "text": [
      "2025-07-20 14:25:13 [INFO] idaes.init.fs.ro_stage2: Initialization Complete: optimal - Optimal Solution Found\n"
     ]
    },
    {
     "name": "stdout",
     "output_type": "stream",
     "text": [
      "2025-07-20 14:25:13 [INFO] idaes.init.fs.stage_product2: Initialization Complete.\n"
     ]
    },
    {
     "name": "stdout",
     "output_type": "stream",
     "text": [
      "2025-07-20 14:25:13 [INFO] idaes.init.fs.recycle_split: Initialization Step 2 Complete: optimal - Optimal Solution Found\n"
     ]
    },
    {
     "name": "stdout",
     "output_type": "stream",
     "text": [
      "2025-07-20 14:25:13 [INFO] idaes.init.fs.disposal_product: Initialization Complete.\n"
     ]
    },
    {
     "name": "stdout",
     "output_type": "stream",
     "text": [
      "\n",
      "Solution found successfully!\n",
      "Solver time: 0.0 seconds\n"
     ]
    }
   ],
   "source": [
    "# Initialize and solve the model\n",
    "try:\n",
    "    logger.info(f\"Initializing and solving with strategy: {initialization_strategy}\")\n",
    "    \n",
    "    # Use the centralized solver function\n",
    "    solver_results = initialize_and_solve_mcas(\n",
    "        model=model,\n",
    "        config_data=configuration,\n",
    "        optimize_pumps=optimize_pumps\n",
    "    )\n",
    "    \n",
    "    if solver_results['status'] == 'success':\n",
    "        print(\"\\nSolution found successfully!\")\n",
    "        print(f\"Solver time: {solver_results.get('solve_time', 0):.1f} seconds\")\n",
    "    else:\n",
    "        raise RuntimeError(f\"Solver failed: {solver_results.get('message', 'Unknown error')}\")\n",
    "        \n",
    "except Exception as e:\n",
    "    logger.error(f\"Solve failed: {str(e)}\", exc_info=True)\n",
    "    results = {\n",
    "        \"status\": \"error\",\n",
    "        \"message\": f\"Simulation failed during solve: {str(e)}\",\n",
    "        \"error_type\": type(e).__name__\n",
    "    }\n",
    "    raise"
   ]
  },
  {
   "cell_type": "markdown",
   "id": "c48347ce",
   "metadata": {
    "papermill": {
     "duration": 0.01251,
     "end_time": "2025-07-20T18:25:14.918183",
     "exception": false,
     "start_time": "2025-07-20T18:25:14.905673",
     "status": "completed"
    },
    "tags": []
   },
   "source": [
    "## Extract and Format Results"
   ]
  },
  {
   "cell_type": "code",
   "execution_count": 8,
   "id": "cfd1e249",
   "metadata": {
    "execution": {
     "iopub.execute_input": "2025-07-20T18:25:14.944110Z",
     "iopub.status.busy": "2025-07-20T18:25:14.943097Z",
     "iopub.status.idle": "2025-07-20T18:25:14.958676Z",
     "shell.execute_reply": "2025-07-20T18:25:14.957711Z"
    },
    "papermill": {
     "duration": 0.031064,
     "end_time": "2025-07-20T18:25:14.960793",
     "exception": false,
     "start_time": "2025-07-20T18:25:14.929729",
     "status": "completed"
    },
    "tags": []
   },
   "outputs": [],
   "source": [
    "# Extract results from the solved model\n",
    "if solver_results['status'] == 'success':\n",
    "    logger.info(\"Extracting results...\")\n",
    "    \n",
    "    # Use the centralized results extractor\n",
    "    raw_results = extract_results_mcas(model, configuration)\n",
    "    \n",
    "    # Format results for output\n",
    "    results = format_simulation_response(raw_results)\n",
    "    \n",
    "    # Add metadata\n",
    "    results[\"property_package\"] = \"MCAS\"\n",
    "    results[\"initialization_strategy\"] = initialization_strategy\n",
    "    results[\"solver_info\"] = {\n",
    "        \"termination_condition\": solver_results.get('termination_condition', 'optimal'),\n",
    "        \"solve_time\": solver_results.get('solve_time', 0),\n",
    "        \"iterations\": solver_results.get('iterations', 0)\n",
    "    }\n",
    "    \n",
    "    logger.info(\"Results extraction complete\")\n",
    "        \n",
    "else:\n",
    "    results = {\n",
    "        \"status\": \"error\",\n",
    "        \"message\": f\"Solver did not succeed: {solver_results.get('message', 'Unknown error')}\"\n",
    "    }"
   ]
  },
  {
   "cell_type": "markdown",
   "id": "7999bc6c",
   "metadata": {
    "papermill": {
     "duration": 0.008795,
     "end_time": "2025-07-20T18:25:14.976331",
     "exception": false,
     "start_time": "2025-07-20T18:25:14.967536",
     "status": "completed"
    },
    "tags": []
   },
   "source": [
    "## Display Results Summary"
   ]
  },
  {
   "cell_type": "code",
   "execution_count": 9,
   "id": "c69ca230",
   "metadata": {
    "execution": {
     "iopub.execute_input": "2025-07-20T18:25:14.999461Z",
     "iopub.status.busy": "2025-07-20T18:25:14.999461Z",
     "iopub.status.idle": "2025-07-20T18:25:15.021328Z",
     "shell.execute_reply": "2025-07-20T18:25:15.020318Z"
    },
    "papermill": {
     "duration": 0.034425,
     "end_time": "2025-07-20T18:25:15.023327",
     "exception": false,
     "start_time": "2025-07-20T18:25:14.988902",
     "status": "completed"
    },
    "tags": []
   },
   "outputs": [
    {
     "name": "stdout",
     "output_type": "stream",
     "text": [
      "\n",
      "============================================================\n",
      "SIMULATION RESULTS - MCAS MODEL\n",
      "============================================================\n",
      "\n",
      "Overall Performance:\n",
      "  Available keys: ['system_recovery', 'total_permeate_flow_m3_h', 'total_permeate_tds_mg_l', 'total_power_consumption_kW', 'specific_energy_kWh_m3']\n",
      "  Total Recovery: 76.6%\n",
      "\n",
      "Economics:\n",
      "  Available keys: ['capital_cost_usd', 'operating_cost_usd_year', 'lcow_usd_m3']\n",
      "  LCOW: $0.00/m³\n",
      "  CAPEX: $0\n",
      "\n",
      "Stage Details:\n",
      "\n",
      "  Stage 1 keys: ['stage', 'recovery', 'feed_flow_kg_s', 'permeate_flow_kg_s', 'concentrate_flow_kg_s', 'feed_pressure_bar', 'concentrate_pressure_bar', 'permeate_pressure_bar', 'pump_power_kW', 'ion_data']\n",
      "  Stage 1:\n",
      "    Feed pressure: 13.6 bar\n",
      "\n",
      "  Stage 2 keys: ['stage', 'recovery', 'feed_flow_kg_s', 'permeate_flow_kg_s', 'concentrate_flow_kg_s', 'feed_pressure_bar', 'concentrate_pressure_bar', 'permeate_pressure_bar', 'pump_power_kW', 'ion_data']\n",
      "  Stage 2:\n",
      "    Feed pressure: 20.9 bar\n",
      "\n",
      "Mass Balance:\n"
     ]
    }
   ],
   "source": [
    "# Display comprehensive results summary\n",
    "if 'results' in locals() and results.get(\"status\") == \"success\":\n",
    "    print(\"\\n\" + \"=\"*60)\n",
    "    print(\"SIMULATION RESULTS - MCAS MODEL\")\n",
    "    print(\"=\"*60)\n",
    "    \n",
    "    # Get the actual results data (nested under 'results' key after formatting)\n",
    "    sim_data = results.get('results', {})\n",
    "    \n",
    "    # Overall performance\n",
    "    if 'performance' in sim_data:\n",
    "        perf = sim_data['performance']\n",
    "        print(f\"\\nOverall Performance:\")\n",
    "        print(f\"  Available keys: {list(perf.keys())}\")\n",
    "        \n",
    "        # Use flexible key names\n",
    "        recovery_key = 'system_recovery' if 'system_recovery' in perf else 'total_recovery'\n",
    "        feed_flow_key = 'feed_flow_m3h' if 'feed_flow_m3h' in perf else 'feed_flow'\n",
    "        perm_flow_key = 'permeate_flow_m3h' if 'permeate_flow_m3h' in perf else 'permeate_flow'\n",
    "        perm_tds_key = 'permeate_tds_ppm' if 'permeate_tds_ppm' in perf else 'permeate_tds'\n",
    "        \n",
    "        if recovery_key in perf:\n",
    "            print(f\"  Total Recovery: {perf[recovery_key]:.1%}\")\n",
    "        if feed_flow_key in perf:\n",
    "            print(f\"  Feed Flow: {perf[feed_flow_key]:.1f} m³/h\")\n",
    "        if perm_flow_key in perf:\n",
    "            print(f\"  Permeate Flow: {perf[perm_flow_key]:.1f} m³/h\")\n",
    "        if perm_tds_key in perf:\n",
    "            print(f\"  Permeate TDS: {perf[perm_tds_key]:.0f} ppm\")\n",
    "    \n",
    "    # Economics\n",
    "    if 'economics' in sim_data:\n",
    "        econ = sim_data['economics']\n",
    "        print(f\"\\nEconomics:\")\n",
    "        print(f\"  Available keys: {list(econ.keys())}\")\n",
    "        \n",
    "        if 'specific_energy_kwh_m3' in econ:\n",
    "            print(f\"  Specific Energy: {econ['specific_energy_kwh_m3']:.2f} kWh/m³\")\n",
    "        if 'total_power_kw' in econ:\n",
    "            print(f\"  Total Power: {econ['total_power_kw']:.1f} kW\")\n",
    "        if 'lcow_usd_m3' in econ:\n",
    "            print(f\"  LCOW: ${econ['lcow_usd_m3']:.2f}/m³\")\n",
    "        if 'capital_cost_usd' in econ:\n",
    "            print(f\"  CAPEX: ${econ['capital_cost_usd']:,.0f}\")\n",
    "        if 'annual_opex_usd' in econ:\n",
    "            print(f\"  Annual OPEX: ${econ['annual_opex_usd']:,.0f}/year\")\n",
    "    \n",
    "    # Ion rejection\n",
    "    if \"ion_tracking\" in sim_data and \"overall_rejection\" in sim_data[\"ion_tracking\"]:\n",
    "        print(f\"\\nIon Rejection:\")\n",
    "        for ion, rejection in sorted(sim_data['ion_tracking']['overall_rejection'].items()):\n",
    "            print(f\"  {ion:8s}: {rejection:.1%}\")\n",
    "    \n",
    "    # Stage details\n",
    "    if 'stage_results' in sim_data:\n",
    "        print(f\"\\nStage Details:\")\n",
    "        stages = sim_data['stage_results']\n",
    "        if isinstance(stages, list):\n",
    "            for i, stage in enumerate(stages, 1):\n",
    "                print(f\"\\n  Stage {i} keys: {list(stage.keys())}\")\n",
    "                print(f\"  Stage {i}:\")\n",
    "                \n",
    "                # Use flexible key access\n",
    "                if 'feed_pressure_bar' in stage:\n",
    "                    print(f\"    Feed pressure: {stage['feed_pressure_bar']:.1f} bar\")\n",
    "                if 'water_recovery' in stage:\n",
    "                    print(f\"    Water recovery: {stage['water_recovery']:.1%}\")\n",
    "                if 'permeate_flow_m3h' in stage:\n",
    "                    print(f\"    Permeate flow: {stage['permeate_flow_m3h']:.1f} m³/h\")\n",
    "                if 'permeate_tds_ppm' in stage:\n",
    "                    print(f\"    Permeate TDS: {stage['permeate_tds_ppm']:.0f} ppm\")\n",
    "                if 'pump_power_kw' in stage:\n",
    "                    print(f\"    Pump power: {stage['pump_power_kw']:.1f} kW\")\n",
    "    \n",
    "    # Mass balance check\n",
    "    if \"mass_balance\" in sim_data:\n",
    "        mb = sim_data[\"mass_balance\"]\n",
    "        print(f\"\\nMass Balance:\")\n",
    "        if 'error_percent' in mb:\n",
    "            print(f\"  Error: {mb['error_percent']:.2f}%\")\n",
    "            if mb['error_percent'] > 0.1:\n",
    "                print(\"  WARNING: Mass balance error exceeds 0.1%\")\n",
    "            else:\n",
    "                print(\"  Mass balance OK\")\n",
    "                \n",
    "elif 'results' in locals():\n",
    "    print(f\"\\nSimulation completed but results status: {results.get('status', 'unknown')}\")\n",
    "    print(f\"Message: {results.get('message', 'No message')}\")\n",
    "    if 'results' in results:\n",
    "        print(f\"Available sections: {list(results['results'].keys())}\")\n",
    "else:\n",
    "    print(\"\\nNo results available - check previous cells for errors\")"
   ]
  },
  {
   "cell_type": "markdown",
   "id": "e5e23836",
   "metadata": {
    "papermill": {
     "duration": 0.012555,
     "end_time": "2025-07-20T18:25:15.049211",
     "exception": false,
     "start_time": "2025-07-20T18:25:15.036656",
     "status": "completed"
    },
    "tags": []
   },
   "source": [
    "## Export Results"
   ]
  },
  {
   "cell_type": "code",
   "execution_count": 10,
   "id": "12c65ceb",
   "metadata": {
    "execution": {
     "iopub.execute_input": "2025-07-20T18:25:15.073335Z",
     "iopub.status.busy": "2025-07-20T18:25:15.073335Z",
     "iopub.status.idle": "2025-07-20T18:25:15.086969Z",
     "shell.execute_reply": "2025-07-20T18:25:15.085954Z"
    },
    "papermill": {
     "duration": 0.028129,
     "end_time": "2025-07-20T18:25:15.089965",
     "exception": false,
     "start_time": "2025-07-20T18:25:15.061836",
     "status": "completed"
    },
    "tags": [
     "results"
    ]
   },
   "outputs": [
    {
     "data": {
      "text/plain": [
       "{'status': 'success',\n",
       " 'message': 'RO system simulation completed successfully',\n",
       " 'results': {'performance': {'system_recovery': 0.7663155958059032,\n",
       "   'total_permeate_flow_m3_h': 76.24840178268737,\n",
       "   'total_permeate_tds_mg_l': 124.65077457709782,\n",
       "   'total_power_consumption_kW': 56.305013480906815,\n",
       "   'specific_energy_kWh_m3': 0.7384418842165317},\n",
       "  'economics': {'capital_cost_usd': 0,\n",
       "   'operating_cost_usd_year': 0,\n",
       "   'lcow_usd_m3': 0},\n",
       "  'stage_results': [{'stage': 1,\n",
       "    'recovery': 0.5382202894945219,\n",
       "    'feed_flow_kg_s': 27.777777843728035,\n",
       "    'permeate_flow_kg_s': 14.877254456069323,\n",
       "    'concentrate_flow_kg_s': 12.900523387658712,\n",
       "    'feed_pressure_bar': 13.574310363636366,\n",
       "    'concentrate_pressure_bar': 13.074310363636366,\n",
       "    'permeate_pressure_bar': 1.01325,\n",
       "    'pump_power_kW': 43.61479303284358,\n",
       "    'ion_data': {'Na_+': {'feed_mg_l': 1968.0000146284644,\n",
       "      'permeate_mg_l': 38.6841085329342,\n",
       "      'concentrate_mg_l': 4192.942584678282,\n",
       "      'rejection': 0.980343440932221,\n",
       "      'feed_flow_kg_s': 0.05466666720280301,\n",
       "      'permeate_flow_kg_s': 0.0005755133260506646,\n",
       "      'concentrate_flow_kg_s': 0.054091153876752354},\n",
       "     'Cl_-': {'feed_mg_l': 3032.000022550046,\n",
       "      'permeate_mg_l': 58.352762513059815,\n",
       "      'concentrate_mg_l': 6461.295534117084,\n",
       "      'rejection': 0.9807543660689083,\n",
       "      'feed_flow_kg_s': 0.08422222304857357,\n",
       "      'permeate_flow_kg_s': 0.0008681288961213741,\n",
       "      'concentrate_flow_kg_s': 0.08335409415245222}}},\n",
       "   {'stage': 2,\n",
       "    'recovery': 0.49394830333914247,\n",
       "    'feed_flow_kg_s': 12.900523387658712,\n",
       "    'permeate_flow_kg_s': 6.305497267550077,\n",
       "    'concentrate_flow_kg_s': 6.595026120108636,\n",
       "    'feed_pressure_bar': 20.943895227272733,\n",
       "    'concentrate_pressure_bar': 20.443895227272733,\n",
       "    'permeate_pressure_bar': 1.01325,\n",
       "    'pump_power_kW': 12.690220448063242,\n",
       "    'ion_data': {'Na_+': {'feed_mg_l': 4192.942584678282,\n",
       "      'permeate_mg_l': 75.73049753645041,\n",
       "      'concentrate_mg_l': 8129.404562628617,\n",
       "      'rejection': 0.9819385798858342,\n",
       "      'feed_flow_kg_s': 0.054091153876752354,\n",
       "      'permeate_flow_kg_s': 0.00047751844528629597,\n",
       "      'concentrate_flow_kg_s': 0.05361363543146605},\n",
       "     'Cl_-': {'feed_mg_l': 6461.295534117084,\n",
       "      'permeate_mg_l': 114.02061080837429,\n",
       "      'concentrate_mg_l': 12529.918153105726,\n",
       "      'rejection': 0.9823532896450379,\n",
       "      'feed_flow_kg_s': 0.08335409415245222,\n",
       "      'permeate_flow_kg_s': 0.0007189566498965949,\n",
       "      'concentrate_flow_kg_s': 0.08263513750255562}}}],\n",
       "  'mass_balance': {'mass_balance_error': 2.3742094050760443e-09,\n",
       "   'mass_balance_ok': True},\n",
       "  'ion_analysis': {'Na_+': {'fresh_feed_mg_l': 1968.0000000000002,\n",
       "    'combined_permeate_mg_l': 49.71175535059492,\n",
       "    'disposal_mg_l': 8129.404562628617,\n",
       "    'overall_rejection': 0.9747399617120961},\n",
       "   'Cl_-': {'fresh_feed_mg_l': 3032.0,\n",
       "    'combined_permeate_mg_l': 74.92348334745958,\n",
       "    'disposal_mg_l': 12529.918153105726,\n",
       "    'overall_rejection': 0.9752890886057192}}},\n",
       " 'summary': {'system_recovery': 0.7663155958059032,\n",
       "  'permeate_tds_mg_l': 124.65077457709782,\n",
       "  'specific_energy_kwh_m3': 0.7384418842165317,\n",
       "  'total_power_kw': 0},\n",
       " 'property_package': 'MCAS',\n",
       " 'initialization_strategy': 'sequential',\n",
       " 'solver_info': {'termination_condition': 'optimal',\n",
       "  'solve_time': 0,\n",
       "  'iterations': 0}}"
      ]
     },
     "execution_count": 10,
     "metadata": {},
     "output_type": "execute_result"
    }
   ],
   "source": [
    "# Results cell - tagged for papermill to extract\n",
    "# This cell contains the complete results dictionary\n",
    "results"
   ]
  },
  {
   "cell_type": "markdown",
   "id": "73c397ca",
   "metadata": {
    "papermill": {
     "duration": 0.008623,
     "end_time": "2025-07-20T18:25:15.111031",
     "exception": false,
     "start_time": "2025-07-20T18:25:15.102408",
     "status": "completed"
    },
    "tags": []
   },
   "source": [
    "## Save Results to JSON"
   ]
  },
  {
   "cell_type": "code",
   "execution_count": 11,
   "id": "49d4e8b9",
   "metadata": {
    "execution": {
     "iopub.execute_input": "2025-07-20T18:25:15.139922Z",
     "iopub.status.busy": "2025-07-20T18:25:15.138922Z",
     "iopub.status.idle": "2025-07-20T18:25:15.152150Z",
     "shell.execute_reply": "2025-07-20T18:25:15.150136Z"
    },
    "papermill": {
     "duration": 0.030815,
     "end_time": "2025-07-20T18:25:15.154150",
     "exception": false,
     "start_time": "2025-07-20T18:25:15.123335",
     "status": "completed"
    },
    "tags": []
   },
   "outputs": [
    {
     "name": "stdout",
     "output_type": "stream",
     "text": [
      "\n",
      "Results saved to: C:\\Users\\hvksh\\mcp-servers\\ro-design-mcp\\results\\simulation_results_20250720_142515.json\n"
     ]
    }
   ],
   "source": [
    "# Save results to JSON file for archival\n",
    "if results.get(\"status\") == \"success\":\n",
    "    import json\n",
    "    from datetime import datetime\n",
    "    \n",
    "    # Create results directory if it doesn't exist\n",
    "    results_dir = Path(project_root) / \"results\"\n",
    "    results_dir.mkdir(exist_ok=True)\n",
    "    \n",
    "    # Generate filename with timestamp\n",
    "    timestamp = datetime.now().strftime(\"%Y%m%d_%H%M%S\")\n",
    "    output_file = results_dir / f\"simulation_results_{timestamp}.json\"\n",
    "    \n",
    "    # Save results\n",
    "    with open(output_file, 'w') as f:\n",
    "        json.dump(results, f, indent=2, default=str)\n",
    "    \n",
    "    print(f\"\\nResults saved to: {output_file}\")"
   ]
  }
 ],
 "metadata": {
  "celltoolbar": "Tags",
  "kernelspec": {
   "display_name": "Python 3",
   "language": "python",
   "name": "python3"
  },
  "language_info": {
   "codemirror_mode": {
    "name": "ipython",
    "version": 3
   },
   "file_extension": ".py",
   "mimetype": "text/x-python",
   "name": "python",
   "nbconvert_exporter": "python",
   "pygments_lexer": "ipython3",
   "version": "3.12.10"
  },
  "papermill": {
   "default_parameters": {},
   "duration": 24.076103,
   "end_time": "2025-07-20T18:25:16.061400",
   "environment_variables": {},
   "exception": null,
   "input_path": "C:\\Users\\hvksh\\mcp-servers\\ro-design-mcp\\notebooks\\ro_simulation_mcas_template.ipynb",
   "output_path": "C:\\Users\\hvksh\\mcp-servers\\ro-design-mcp\\results\\test_improved_20250720_142451.ipynb",
   "parameters": {
    "configuration": {
     "achieved_recovery": 0.75,
     "array_notation": "12:5",
     "stage_count": 2,
     "stages": [
      {
       "feed_flow_m3h": 100.0,
       "membrane_area_m2": 3121.44,
       "stage_number": 1,
       "stage_recovery": 0.56,
       "vessel_count": 12
      },
      {
       "feed_flow_m3h": 44.0,
       "membrane_area_m2": 1300.6,
       "stage_number": 2,
       "stage_recovery": 0.44,
       "vessel_count": 5
      }
     ],
     "total_membrane_area_m2": 4422.04,
     "total_vessels": 17
    },
    "feed_ion_composition": "{\"Na+\": 1968, \"Cl-\": 3032}",
    "feed_salinity_ppm": 5000,
    "feed_temperature_c": 25.0,
    "initialization_strategy": "sequential",
    "membrane_properties": null,
    "membrane_type": "brackish",
    "optimize_pumps": false,
    "project_root": "C:\\Users\\hvksh\\mcp-servers\\ro-design-mcp"
   },
   "start_time": "2025-07-20T18:24:51.985297",
   "version": "2.6.0"
  }
 },
 "nbformat": 4,
 "nbformat_minor": 5
}