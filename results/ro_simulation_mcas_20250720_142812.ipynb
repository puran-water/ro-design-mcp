{
 "cells": [
  {
   "cell_type": "markdown",
   "id": "2e589beb",
   "metadata": {
    "papermill": {
     "duration": 0.008312,
     "end_time": "2025-07-20T18:28:18.226894",
     "exception": false,
     "start_time": "2025-07-20T18:28:18.218582",
     "status": "completed"
    },
    "tags": []
   },
   "source": [
    "# RO System Simulation Engine with MCAS\n",
    "\n",
    "This notebook serves as a simulation engine for RO systems using the MCAS property package,\n",
    "leveraging modular utility functions for maintainability and consistency."
   ]
  },
  {
   "cell_type": "code",
   "execution_count": 1,
   "id": "58aa7a6d",
   "metadata": {
    "execution": {
     "iopub.execute_input": "2025-07-20T18:28:18.242541Z",
     "iopub.status.busy": "2025-07-20T18:28:18.242541Z",
     "iopub.status.idle": "2025-07-20T18:28:18.252702Z",
     "shell.execute_reply": "2025-07-20T18:28:18.251634Z"
    },
    "papermill": {
     "duration": 0.018514,
     "end_time": "2025-07-20T18:28:18.254308",
     "exception": false,
     "start_time": "2025-07-20T18:28:18.235794",
     "status": "completed"
    },
    "tags": [
     "parameters"
    ]
   },
   "outputs": [],
   "source": [
    "# Parameters cell - will be replaced by papermill\n",
    "project_root = \"/path/to/project\"  # Will be replaced by papermill\n",
    "configuration = {}  # RO configuration from optimization\n",
    "feed_salinity_ppm = 5000\n",
    "feed_temperature_c = 25.0\n",
    "membrane_type = \"brackish\"\n",
    "membrane_properties = None\n",
    "optimize_pumps = False\n",
    "feed_ion_composition = None  # JSON string with ion concentrations in mg/L\n",
    "initialization_strategy = \"sequential\"  # \"sequential\", \"block_triangular\", \"custom_guess\", \"relaxation\""
   ]
  },
  {
   "cell_type": "code",
   "execution_count": 2,
   "id": "b3d565bb",
   "metadata": {
    "execution": {
     "iopub.execute_input": "2025-07-20T18:28:18.269318Z",
     "iopub.status.busy": "2025-07-20T18:28:18.268310Z",
     "iopub.status.idle": "2025-07-20T18:28:18.279681Z",
     "shell.execute_reply": "2025-07-20T18:28:18.278561Z"
    },
    "papermill": {
     "duration": 0.023387,
     "end_time": "2025-07-20T18:28:18.282712",
     "exception": false,
     "start_time": "2025-07-20T18:28:18.259325",
     "status": "completed"
    },
    "tags": [
     "injected-parameters"
    ]
   },
   "outputs": [],
   "source": [
    "# Parameters\n",
    "project_root = \"C:\\\\Users\\\\hvksh\\\\mcp-servers\\\\ro-design-mcp\"\n",
    "configuration = {\n",
    "    \"stage_count\": 2,\n",
    "    \"array_notation\": \"18:8\",\n",
    "    \"total_vessels\": 26,\n",
    "    \"total_membrane_area_m2\": 6763.12,\n",
    "    \"achieved_recovery\": 0.7500302405264233,\n",
    "    \"recovery_error\": 3.0240526423308545e-05,\n",
    "    \"stages\": [\n",
    "        {\n",
    "            \"stage_number\": 1,\n",
    "            \"vessel_count\": 18,\n",
    "            \"feed_flow_m3h\": 152.68429032820418,\n",
    "            \"permeate_flow_m3h\": 84.25852137281508,\n",
    "            \"concentrate_flow_m3h\": 68.4257689553891,\n",
    "            \"stage_recovery\": 0.5518480073601302,\n",
    "            \"design_flux_lmh\": 17.99565187281406,\n",
    "            \"flux_ratio\": 0.999758437378559,\n",
    "            \"membrane_area_m2\": 4682.16,\n",
    "            \"concentrate_per_vessel_m3h\": 3.8014316086327278,\n",
    "            \"min_concentrate_required_m3h\": 3.5,\n",
    "            \"concentrate_margin_m3h\": 0.3014316086327278,\n",
    "            \"concentrate_margin_percent\": 8.612331675220798,\n",
    "        },\n",
    "        {\n",
    "            \"stage_number\": 2,\n",
    "            \"vessel_count\": 8,\n",
    "            \"feed_flow_m3h\": 68.4257689553891,\n",
    "            \"permeate_flow_m3h\": 28.246014706148415,\n",
    "            \"concentrate_flow_m3h\": 40.17975424924069,\n",
    "            \"stage_recovery\": 0.41279791425601225,\n",
    "            \"design_flux_lmh\": 13.57355004716497,\n",
    "            \"flux_ratio\": 0.9049033364776646,\n",
    "            \"membrane_area_m2\": 2080.96,\n",
    "            \"concentrate_per_vessel_m3h\": 5.022469281155086,\n",
    "            \"min_concentrate_required_m3h\": 3.8,\n",
    "            \"concentrate_margin_m3h\": 1.2224692811550861,\n",
    "            \"concentrate_margin_percent\": 32.17024424092332,\n",
    "        },\n",
    "    ],\n",
    "    \"recycle_info\": {\n",
    "        \"uses_recycle\": True,\n",
    "        \"recycle_ratio\": 0.017551470805134695,\n",
    "        \"recycle_flow_m3h\": 2.6797542492406876,\n",
    "        \"recycle_split_ratio\": 0.06669414234387283,\n",
    "        \"effective_feed_flow_m3h\": 152.6797542492407,\n",
    "        \"disposal_flow_m3h\": 37.5,\n",
    "    },\n",
    "    \"recovery_achievement\": {\n",
    "        \"met_target\": True,\n",
    "        \"target_recovery_percent\": 75,\n",
    "        \"achieved_recovery_percent\": 75.00302405264233,\n",
    "        \"recovery_error_percent\": 0.0030240526423308545,\n",
    "    },\n",
    "    \"flux_summary\": {\n",
    "        \"min_flux_ratio\": 0.9049033364776646,\n",
    "        \"max_flux_ratio\": 0.999758437378559,\n",
    "        \"average_flux_lmh\": 15.784600959989515,\n",
    "    },\n",
    "    \"feed_flow_m3h\": 152.6797542492407,\n",
    "}\n",
    "feed_salinity_ppm = 2000.0\n",
    "feed_ion_composition = \"{\\\"Na+\\\": 786, \\\"Cl-\\\": 1214}\"\n",
    "feed_temperature_c = 25.0\n",
    "membrane_type = \"brackish\"\n",
    "membrane_properties = None\n",
    "optimize_pumps = True\n",
    "initialization_strategy = \"sequential\"\n"
   ]
  },
  {
   "cell_type": "markdown",
   "id": "df70241e",
   "metadata": {
    "papermill": {
     "duration": 0.004891,
     "end_time": "2025-07-20T18:28:18.293077",
     "exception": false,
     "start_time": "2025-07-20T18:28:18.288186",
     "status": "completed"
    },
    "tags": []
   },
   "source": [
    "## Setup and Imports"
   ]
  },
  {
   "cell_type": "code",
   "execution_count": 3,
   "id": "4a5565b3",
   "metadata": {
    "execution": {
     "iopub.execute_input": "2025-07-20T18:28:18.306568Z",
     "iopub.status.busy": "2025-07-20T18:28:18.306568Z",
     "iopub.status.idle": "2025-07-20T18:28:30.364506Z",
     "shell.execute_reply": "2025-07-20T18:28:30.363999Z"
    },
    "papermill": {
     "duration": 12.067499,
     "end_time": "2025-07-20T18:28:30.367270",
     "exception": false,
     "start_time": "2025-07-20T18:28:18.299771",
     "status": "completed"
    },
    "tags": []
   },
   "outputs": [],
   "source": [
    "# System imports\n",
    "import sys\n",
    "import os\n",
    "import json\n",
    "import warnings\n",
    "from pathlib import Path\n",
    "\n",
    "# Add project root to path\n",
    "sys.path.insert(0, project_root)\n",
    "\n",
    "# Import all utility modules for MCAS simulation\n",
    "from utils.mcas_builder import (\n",
    "    build_mcas_property_configuration,\n",
    "    check_electroneutrality,\n",
    "    get_total_dissolved_solids,\n",
    "    calculate_ionic_strength\n",
    ")\n",
    "from utils.ro_model_builder import build_ro_model_mcas\n",
    "from utils.ro_initialization import initialize_multistage_ro_elegant\n",
    "from utils.ro_solver import initialize_and_solve_mcas\n",
    "from utils.ro_results_extractor import extract_results_mcas\n",
    "from utils.response_formatter import format_simulation_response\n",
    "from utils.config import get_config\n",
    "from utils.logging_config import get_configured_logger\n",
    "\n",
    "# Configure logging\n",
    "logger = get_configured_logger(__name__)\n",
    "warnings.filterwarnings('ignore')\n",
    "\n",
    "# Results storage\n",
    "results = {}"
   ]
  },
  {
   "cell_type": "markdown",
   "id": "2809ed28",
   "metadata": {
    "papermill": {
     "duration": 0.006782,
     "end_time": "2025-07-20T18:28:30.379615",
     "exception": false,
     "start_time": "2025-07-20T18:28:30.372833",
     "status": "completed"
    },
    "tags": []
   },
   "source": [
    "## Validate and Prepare Ion Composition"
   ]
  },
  {
   "cell_type": "code",
   "execution_count": 4,
   "id": "adf97f64",
   "metadata": {
    "execution": {
     "iopub.execute_input": "2025-07-20T18:28:30.395926Z",
     "iopub.status.busy": "2025-07-20T18:28:30.392822Z",
     "iopub.status.idle": "2025-07-20T18:28:30.432692Z",
     "shell.execute_reply": "2025-07-20T18:28:30.431683Z"
    },
    "papermill": {
     "duration": 0.04755,
     "end_time": "2025-07-20T18:28:30.434173",
     "exception": false,
     "start_time": "2025-07-20T18:28:30.386623",
     "status": "completed"
    },
    "tags": []
   },
   "outputs": [
    {
     "name": "stdout",
     "output_type": "stream",
     "text": [
      "Configuration: 18:8\n",
      "Feed flow: 152.6797542492407 m³/h\n",
      "Feed salinity: 2000.0 ppm\n",
      "Feed temperature: 25.0°C\n",
      "Initialization strategy: sequential\n"
     ]
    }
   ],
   "source": [
    "# Validate configuration\n",
    "if not isinstance(configuration, dict) or \"stages\" not in configuration:\n",
    "    raise ValueError(\"Invalid configuration provided\")\n",
    "\n",
    "# Parse and validate ion composition (required for MCAS)\n",
    "if not feed_ion_composition:\n",
    "    raise ValueError(\"Ion composition is required for MCAS simulation\")\n",
    "\n",
    "if isinstance(feed_ion_composition, str):\n",
    "    parsed_ion_composition = json.loads(feed_ion_composition)\n",
    "else:\n",
    "    parsed_ion_composition = feed_ion_composition\n",
    "\n",
    "# Basic validation of ion composition\n",
    "if not isinstance(parsed_ion_composition, dict):\n",
    "    raise ValueError(\"Ion composition must be a dictionary\")\n",
    "\n",
    "for ion, conc in parsed_ion_composition.items():\n",
    "    if not isinstance(conc, (int, float)) or conc < 0:\n",
    "        raise ValueError(f\"Invalid concentration for {ion}: {conc}\")\n",
    "\n",
    "# Add feed_flow_m3h to configuration if missing\n",
    "if \"feed_flow_m3h\" not in configuration:\n",
    "    if \"recycle_info\" in configuration and \"effective_feed_flow_m3h\" in configuration[\"recycle_info\"]:\n",
    "        configuration[\"feed_flow_m3h\"] = configuration[\"recycle_info\"][\"effective_feed_flow_m3h\"]\n",
    "    elif \"stages\" in configuration and configuration[\"stages\"]:\n",
    "        first_stage = configuration[\"stages\"][0]\n",
    "        if \"feed_flow_m3h\" in first_stage:\n",
    "            configuration[\"feed_flow_m3h\"] = first_stage[\"feed_flow_m3h\"]\n",
    "        else:\n",
    "            configuration[\"feed_flow_m3h\"] = 100.0\n",
    "    else:\n",
    "        configuration[\"feed_flow_m3h\"] = 100.0\n",
    "\n",
    "print(f\"Configuration: {configuration.get('array_notation', 'Unknown')}\")\n",
    "print(f\"Feed flow: {configuration['feed_flow_m3h']} m³/h\")\n",
    "print(f\"Feed salinity: {feed_salinity_ppm} ppm\")\n",
    "print(f\"Feed temperature: {feed_temperature_c}°C\")\n",
    "print(f\"Initialization strategy: {initialization_strategy}\")"
   ]
  },
  {
   "cell_type": "markdown",
   "id": "0c0f01ba",
   "metadata": {
    "papermill": {
     "duration": 0.009477,
     "end_time": "2025-07-20T18:28:30.449662",
     "exception": false,
     "start_time": "2025-07-20T18:28:30.440185",
     "status": "completed"
    },
    "tags": []
   },
   "source": [
    "## Build MCAS Property Configuration"
   ]
  },
  {
   "cell_type": "code",
   "execution_count": 5,
   "id": "7d4942f1",
   "metadata": {
    "execution": {
     "iopub.execute_input": "2025-07-20T18:28:30.465266Z",
     "iopub.status.busy": "2025-07-20T18:28:30.464272Z",
     "iopub.status.idle": "2025-07-20T18:28:30.479510Z",
     "shell.execute_reply": "2025-07-20T18:28:30.478497Z"
    },
    "papermill": {
     "duration": 0.025363,
     "end_time": "2025-07-20T18:28:30.481521",
     "exception": false,
     "start_time": "2025-07-20T18:28:30.456158",
     "status": "completed"
    },
    "tags": []
   },
   "outputs": [
    {
     "name": "stderr",
     "output_type": "stream",
     "text": [
      "Unknown ion: Na+\n"
     ]
    },
    {
     "name": "stderr",
     "output_type": "stream",
     "text": [
      "Unknown ion: Cl-\n"
     ]
    },
    {
     "name": "stdout",
     "output_type": "stream",
     "text": [
      "\n",
      "Feed Ion Composition (mg/L):\n",
      "  Cl-     :   1214.0\n",
      "  Na+     :    786.0\n",
      "\n",
      "Charge balance: OK\n",
      "\n",
      "Total TDS: 2000 mg/L\n",
      "Ionic strength: 0.000 mol/L\n",
      "\n",
      "MCAS components: Na_+, Cl_-\n"
     ]
    }
   ],
   "source": [
    "# Build MCAS property configuration from ion composition\n",
    "mcas_config = build_mcas_property_configuration(\n",
    "    feed_composition=parsed_ion_composition,\n",
    "    include_scaling_ions=True,\n",
    "    include_ph_species=True\n",
    ")\n",
    "\n",
    "# Display ion composition analysis\n",
    "print(\"\\nFeed Ion Composition (mg/L):\")\n",
    "for ion, conc in sorted(parsed_ion_composition.items()):\n",
    "    print(f\"  {ion:8s}: {conc:8.1f}\")\n",
    "\n",
    "# Check electroneutrality\n",
    "is_neutral, imbalance = check_electroneutrality(parsed_ion_composition)\n",
    "if not is_neutral:\n",
    "    print(f\"\\nWarning: Charge imbalance of {imbalance:.1%}\")\n",
    "else:\n",
    "    print(\"\\nCharge balance: OK\")\n",
    "\n",
    "# Calculate properties\n",
    "actual_tds = get_total_dissolved_solids(parsed_ion_composition)\n",
    "ionic_strength = calculate_ionic_strength(parsed_ion_composition)\n",
    "\n",
    "print(f\"\\nTotal TDS: {actual_tds:.0f} mg/L\")\n",
    "print(f\"Ionic strength: {ionic_strength:.3f} mol/L\")\n",
    "print(f\"\\nMCAS components: {', '.join(mcas_config['solute_list'])}\")"
   ]
  },
  {
   "cell_type": "markdown",
   "id": "42e9cd73",
   "metadata": {
    "papermill": {
     "duration": 0.007089,
     "end_time": "2025-07-20T18:28:30.498761",
     "exception": false,
     "start_time": "2025-07-20T18:28:30.491672",
     "status": "completed"
    },
    "tags": []
   },
   "source": [
    "## Build and Initialize Model"
   ]
  },
  {
   "cell_type": "code",
   "execution_count": 6,
   "id": "a2bc532e",
   "metadata": {
    "execution": {
     "iopub.execute_input": "2025-07-20T18:28:30.518137Z",
     "iopub.status.busy": "2025-07-20T18:28:30.516987Z",
     "iopub.status.idle": "2025-07-20T18:28:31.003632Z",
     "shell.execute_reply": "2025-07-20T18:28:31.002394Z"
    },
    "papermill": {
     "duration": 0.498373,
     "end_time": "2025-07-20T18:28:31.005939",
     "exception": false,
     "start_time": "2025-07-20T18:28:30.507566",
     "status": "completed"
    },
    "tags": []
   },
   "outputs": [
    {
     "name": "stdout",
     "output_type": "stream",
     "text": [
      "2025-07-20 14:28:30 [WARNING] idaes.core.util.scaling: Missing scaling factor for fs.pump1.control_volume.work\n"
     ]
    },
    {
     "name": "stdout",
     "output_type": "stream",
     "text": [
      "2025-07-20 14:28:30 [WARNING] idaes.core.util.scaling: Missing scaling factor for fs.ro_stage1.area\n"
     ]
    },
    {
     "name": "stdout",
     "output_type": "stream",
     "text": [
      "2025-07-20 14:28:30 [WARNING] idaes.core.util.scaling: Missing scaling factor for fs.pump2.control_volume.work\n"
     ]
    },
    {
     "name": "stdout",
     "output_type": "stream",
     "text": [
      "2025-07-20 14:28:30 [WARNING] idaes.core.util.scaling: Missing scaling factor for fs.ro_stage2.area\n"
     ]
    },
    {
     "name": "stdout",
     "output_type": "stream",
     "text": [
      "Model built successfully with 2 stages"
     ]
    },
    {
     "name": "stdout",
     "output_type": "stream",
     "text": [
      "\n"
     ]
    }
   ],
   "source": [
    "# Build the RO model with MCAS\n",
    "logger.info(\"Building RO model with MCAS property package...\")\n",
    "\n",
    "model = build_ro_model_mcas(\n",
    "    config_data=configuration,\n",
    "    mcas_config=mcas_config,\n",
    "    feed_salinity_ppm=feed_salinity_ppm,\n",
    "    feed_temperature_c=feed_temperature_c,\n",
    "    membrane_type=membrane_type,\n",
    "    membrane_properties=membrane_properties\n",
    ")\n",
    "\n",
    "print(f\"Model built successfully with {configuration['stage_count']} stages\")"
   ]
  },
  {
   "cell_type": "markdown",
   "id": "8386b34e",
   "metadata": {
    "papermill": {
     "duration": 0.00979,
     "end_time": "2025-07-20T18:28:31.025273",
     "exception": false,
     "start_time": "2025-07-20T18:28:31.015483",
     "status": "completed"
    },
    "tags": []
   },
   "source": [
    "## Solve Model"
   ]
  },
  {
   "cell_type": "code",
   "execution_count": 7,
   "id": "cda1cac4",
   "metadata": {
    "execution": {
     "iopub.execute_input": "2025-07-20T18:28:31.052826Z",
     "iopub.status.busy": "2025-07-20T18:28:31.051810Z",
     "iopub.status.idle": "2025-07-20T18:28:38.511414Z",
     "shell.execute_reply": "2025-07-20T18:28:38.508719Z"
    },
    "papermill": {
     "duration": 7.47569,
     "end_time": "2025-07-20T18:28:38.513606",
     "exception": false,
     "start_time": "2025-07-20T18:28:31.037916",
     "status": "completed"
    },
    "tags": []
   },
   "outputs": [
    {
     "name": "stdout",
     "output_type": "stream",
     "text": [
      "2025-07-20 14:28:31 [INFO] idaes.init.fs.fresh_feed: Initialization Complete.\n"
     ]
    },
    {
     "name": "stdout",
     "output_type": "stream",
     "text": [
      "2025-07-20 14:28:31 [INFO] idaes.init.fs.pump1.control_volume: Initialization Complete\n"
     ]
    },
    {
     "name": "stdout",
     "output_type": "stream",
     "text": [
      "2025-07-20 14:28:31 [INFO] idaes.init.fs.pump1: Initialization Complete: optimal - Optimal Solution Found\n"
     ]
    },
    {
     "name": "stdout",
     "output_type": "stream",
     "text": [
      "2025-07-20 14:28:32 [INFO] idaes.init.fs.ro_stage1.feed_side: Initialization Complete\n"
     ]
    },
    {
     "name": "stdout",
     "output_type": "stream",
     "text": [
      "2025-07-20 14:28:33 [INFO] idaes.init.fs.ro_stage1: Initialization Complete: optimal - Optimal Solution Found\n"
     ]
    },
    {
     "name": "stdout",
     "output_type": "stream",
     "text": [
      "2025-07-20 14:28:33 [INFO] idaes.init.fs.stage_product1: Initialization Complete.\n"
     ]
    },
    {
     "name": "stdout",
     "output_type": "stream",
     "text": [
      "2025-07-20 14:28:33 [INFO] idaes.init.fs.pump2.control_volume: Initialization Complete\n"
     ]
    },
    {
     "name": "stdout",
     "output_type": "stream",
     "text": [
      "2025-07-20 14:28:33 [INFO] idaes.init.fs.pump2: Initialization Complete: optimal - Optimal Solution Found\n"
     ]
    },
    {
     "name": "stdout",
     "output_type": "stream",
     "text": [
      "2025-07-20 14:28:33 [INFO] idaes.init.fs.ro_stage2.feed_side: Initialization Complete\n"
     ]
    },
    {
     "name": "stdout",
     "output_type": "stream",
     "text": [
      "2025-07-20 14:28:35 [INFO] idaes.init.fs.ro_stage2: Initialization Complete: optimal - Optimal Solution Found\n"
     ]
    },
    {
     "name": "stdout",
     "output_type": "stream",
     "text": [
      "2025-07-20 14:28:35 [INFO] idaes.init.fs.stage_product2: Initialization Complete.\n"
     ]
    },
    {
     "name": "stdout",
     "output_type": "stream",
     "text": [
      "2025-07-20 14:28:35 [INFO] idaes.init.fs.recycle_split: Initialization Step 2 Complete: optimal - Optimal Solution Found\n"
     ]
    },
    {
     "name": "stdout",
     "output_type": "stream",
     "text": [
      "2025-07-20 14:28:35 [INFO] idaes.init.fs.disposal_product: Initialization Complete.\n"
     ]
    },
    {
     "name": "stdout",
     "output_type": "stream",
     "text": [
      "2025-07-20 14:28:35 [INFO] idaes.init.fs.recycle_split: Initialization Step 2 Complete: optimal - Optimal Solution Found\n"
     ]
    },
    {
     "name": "stderr",
     "output_type": "stream",
     "text": [
      "Expected 0 degrees of freedom, got 1\n"
     ]
    },
    {
     "name": "stdout",
     "output_type": "stream",
     "text": [
      "\n",
      "Solution found successfully!\n",
      "Solver time: 0.0 seconds\n"
     ]
    }
   ],
   "source": [
    "# Initialize and solve the model\n",
    "try:\n",
    "    logger.info(f\"Initializing and solving with strategy: {initialization_strategy}\")\n",
    "    \n",
    "    # Use the centralized solver function\n",
    "    solver_results = initialize_and_solve_mcas(\n",
    "        model=model,\n",
    "        config_data=configuration,\n",
    "        optimize_pumps=optimize_pumps\n",
    "    )\n",
    "    \n",
    "    if solver_results['status'] == 'success':\n",
    "        print(\"\\nSolution found successfully!\")\n",
    "        print(f\"Solver time: {solver_results.get('solve_time', 0):.1f} seconds\")\n",
    "    else:\n",
    "        raise RuntimeError(f\"Solver failed: {solver_results.get('message', 'Unknown error')}\")\n",
    "        \n",
    "except Exception as e:\n",
    "    logger.error(f\"Solve failed: {str(e)}\", exc_info=True)\n",
    "    results = {\n",
    "        \"status\": \"error\",\n",
    "        \"message\": f\"Simulation failed during solve: {str(e)}\",\n",
    "        \"error_type\": type(e).__name__\n",
    "    }\n",
    "    raise"
   ]
  },
  {
   "cell_type": "markdown",
   "id": "9cd02bdc",
   "metadata": {
    "papermill": {
     "duration": 0.013243,
     "end_time": "2025-07-20T18:28:38.537672",
     "exception": false,
     "start_time": "2025-07-20T18:28:38.524429",
     "status": "completed"
    },
    "tags": []
   },
   "source": [
    "## Extract and Format Results"
   ]
  },
  {
   "cell_type": "code",
   "execution_count": 8,
   "id": "735c4eeb",
   "metadata": {
    "execution": {
     "iopub.execute_input": "2025-07-20T18:28:38.559662Z",
     "iopub.status.busy": "2025-07-20T18:28:38.558648Z",
     "iopub.status.idle": "2025-07-20T18:28:38.577468Z",
     "shell.execute_reply": "2025-07-20T18:28:38.575940Z"
    },
    "papermill": {
     "duration": 0.031897,
     "end_time": "2025-07-20T18:28:38.580582",
     "exception": false,
     "start_time": "2025-07-20T18:28:38.548685",
     "status": "completed"
    },
    "tags": []
   },
   "outputs": [],
   "source": [
    "# Extract results from the solved model\n",
    "if solver_results['status'] == 'success':\n",
    "    logger.info(\"Extracting results...\")\n",
    "    \n",
    "    # Use the centralized results extractor\n",
    "    raw_results = extract_results_mcas(model, configuration)\n",
    "    \n",
    "    # Format results for output\n",
    "    results = format_simulation_response(raw_results)\n",
    "    \n",
    "    # Add metadata\n",
    "    results[\"property_package\"] = \"MCAS\"\n",
    "    results[\"initialization_strategy\"] = initialization_strategy\n",
    "    results[\"solver_info\"] = {\n",
    "        \"termination_condition\": solver_results.get('termination_condition', 'optimal'),\n",
    "        \"solve_time\": solver_results.get('solve_time', 0),\n",
    "        \"iterations\": solver_results.get('iterations', 0)\n",
    "    }\n",
    "    \n",
    "    logger.info(\"Results extraction complete\")\n",
    "        \n",
    "else:\n",
    "    results = {\n",
    "        \"status\": \"error\",\n",
    "        \"message\": f\"Solver did not succeed: {solver_results.get('message', 'Unknown error')}\"\n",
    "    }"
   ]
  },
  {
   "cell_type": "markdown",
   "id": "6ebacb51",
   "metadata": {
    "papermill": {
     "duration": 0.013132,
     "end_time": "2025-07-20T18:28:38.603016",
     "exception": false,
     "start_time": "2025-07-20T18:28:38.589884",
     "status": "completed"
    },
    "tags": []
   },
   "source": [
    "## Display Results Summary"
   ]
  },
  {
   "cell_type": "code",
   "execution_count": 9,
   "id": "762f5b98",
   "metadata": {
    "execution": {
     "iopub.execute_input": "2025-07-20T18:28:38.624135Z",
     "iopub.status.busy": "2025-07-20T18:28:38.623135Z",
     "iopub.status.idle": "2025-07-20T18:28:38.646874Z",
     "shell.execute_reply": "2025-07-20T18:28:38.645866Z"
    },
    "papermill": {
     "duration": 0.035146,
     "end_time": "2025-07-20T18:28:38.648920",
     "exception": false,
     "start_time": "2025-07-20T18:28:38.613774",
     "status": "completed"
    },
    "tags": []
   },
   "outputs": [
    {
     "name": "stdout",
     "output_type": "stream",
     "text": [
      "\n",
      "============================================================\n",
      "SIMULATION RESULTS - MCAS MODEL\n",
      "============================================================\n",
      "\n",
      "Overall Performance:\n",
      "  Available keys: ['system_recovery', 'total_permeate_flow_m3_h', 'total_permeate_tds_mg_l', 'total_power_consumption_kW', 'specific_energy_kWh_m3']\n",
      "  Total Recovery: 75.0%\n",
      "\n",
      "Economics:\n",
      "  Available keys: ['capital_cost_usd', 'operating_cost_usd_year', 'lcow_usd_m3']\n",
      "  LCOW: $0.00/m³\n",
      "  CAPEX: $0\n",
      "\n",
      "Stage Details:\n",
      "\n",
      "  Stage 1 keys: ['stage', 'recovery', 'feed_flow_kg_s', 'permeate_flow_kg_s', 'concentrate_flow_kg_s', 'feed_pressure_bar', 'concentrate_pressure_bar', 'permeate_pressure_bar', 'pump_power_kW', 'ion_data']\n",
      "  Stage 1:\n",
      "    Feed pressure: 9.9 bar\n",
      "\n",
      "  Stage 2 keys: ['stage', 'recovery', 'feed_flow_kg_s', 'permeate_flow_kg_s', 'concentrate_flow_kg_s', 'feed_pressure_bar', 'concentrate_pressure_bar', 'permeate_pressure_bar', 'pump_power_kW', 'ion_data']\n",
      "  Stage 2:\n",
      "    Feed pressure: 11.4 bar\n",
      "\n",
      "Mass Balance:\n"
     ]
    }
   ],
   "source": [
    "# Display comprehensive results summary\n",
    "if 'results' in locals() and results.get(\"status\") == \"success\":\n",
    "    print(\"\\n\" + \"=\"*60)\n",
    "    print(\"SIMULATION RESULTS - MCAS MODEL\")\n",
    "    print(\"=\"*60)\n",
    "    \n",
    "    # Get the actual results data (nested under 'results' key after formatting)\n",
    "    sim_data = results.get('results', {})\n",
    "    \n",
    "    # Overall performance\n",
    "    if 'performance' in sim_data:\n",
    "        perf = sim_data['performance']\n",
    "        print(f\"\\nOverall Performance:\")\n",
    "        print(f\"  Available keys: {list(perf.keys())}\")\n",
    "        \n",
    "        # Use flexible key names\n",
    "        recovery_key = 'system_recovery' if 'system_recovery' in perf else 'total_recovery'\n",
    "        feed_flow_key = 'feed_flow_m3h' if 'feed_flow_m3h' in perf else 'feed_flow'\n",
    "        perm_flow_key = 'permeate_flow_m3h' if 'permeate_flow_m3h' in perf else 'permeate_flow'\n",
    "        perm_tds_key = 'permeate_tds_ppm' if 'permeate_tds_ppm' in perf else 'permeate_tds'\n",
    "        \n",
    "        if recovery_key in perf:\n",
    "            print(f\"  Total Recovery: {perf[recovery_key]:.1%}\")\n",
    "        if feed_flow_key in perf:\n",
    "            print(f\"  Feed Flow: {perf[feed_flow_key]:.1f} m³/h\")\n",
    "        if perm_flow_key in perf:\n",
    "            print(f\"  Permeate Flow: {perf[perm_flow_key]:.1f} m³/h\")\n",
    "        if perm_tds_key in perf:\n",
    "            print(f\"  Permeate TDS: {perf[perm_tds_key]:.0f} ppm\")\n",
    "    \n",
    "    # Economics\n",
    "    if 'economics' in sim_data:\n",
    "        econ = sim_data['economics']\n",
    "        print(f\"\\nEconomics:\")\n",
    "        print(f\"  Available keys: {list(econ.keys())}\")\n",
    "        \n",
    "        if 'specific_energy_kwh_m3' in econ:\n",
    "            print(f\"  Specific Energy: {econ['specific_energy_kwh_m3']:.2f} kWh/m³\")\n",
    "        if 'total_power_kw' in econ:\n",
    "            print(f\"  Total Power: {econ['total_power_kw']:.1f} kW\")\n",
    "        if 'lcow_usd_m3' in econ:\n",
    "            print(f\"  LCOW: ${econ['lcow_usd_m3']:.2f}/m³\")\n",
    "        if 'capital_cost_usd' in econ:\n",
    "            print(f\"  CAPEX: ${econ['capital_cost_usd']:,.0f}\")\n",
    "        if 'annual_opex_usd' in econ:\n",
    "            print(f\"  Annual OPEX: ${econ['annual_opex_usd']:,.0f}/year\")\n",
    "    \n",
    "    # Ion rejection\n",
    "    if \"ion_tracking\" in sim_data and \"overall_rejection\" in sim_data[\"ion_tracking\"]:\n",
    "        print(f\"\\nIon Rejection:\")\n",
    "        for ion, rejection in sorted(sim_data['ion_tracking']['overall_rejection'].items()):\n",
    "            print(f\"  {ion:8s}: {rejection:.1%}\")\n",
    "    \n",
    "    # Stage details\n",
    "    if 'stage_results' in sim_data:\n",
    "        print(f\"\\nStage Details:\")\n",
    "        stages = sim_data['stage_results']\n",
    "        if isinstance(stages, list):\n",
    "            for i, stage in enumerate(stages, 1):\n",
    "                print(f\"\\n  Stage {i} keys: {list(stage.keys())}\")\n",
    "                print(f\"  Stage {i}:\")\n",
    "                \n",
    "                # Use flexible key access\n",
    "                if 'feed_pressure_bar' in stage:\n",
    "                    print(f\"    Feed pressure: {stage['feed_pressure_bar']:.1f} bar\")\n",
    "                if 'water_recovery' in stage:\n",
    "                    print(f\"    Water recovery: {stage['water_recovery']:.1%}\")\n",
    "                if 'permeate_flow_m3h' in stage:\n",
    "                    print(f\"    Permeate flow: {stage['permeate_flow_m3h']:.1f} m³/h\")\n",
    "                if 'permeate_tds_ppm' in stage:\n",
    "                    print(f\"    Permeate TDS: {stage['permeate_tds_ppm']:.0f} ppm\")\n",
    "                if 'pump_power_kw' in stage:\n",
    "                    print(f\"    Pump power: {stage['pump_power_kw']:.1f} kW\")\n",
    "    \n",
    "    # Mass balance check\n",
    "    if \"mass_balance\" in sim_data:\n",
    "        mb = sim_data[\"mass_balance\"]\n",
    "        print(f\"\\nMass Balance:\")\n",
    "        if 'error_percent' in mb:\n",
    "            print(f\"  Error: {mb['error_percent']:.2f}%\")\n",
    "            if mb['error_percent'] > 0.1:\n",
    "                print(\"  WARNING: Mass balance error exceeds 0.1%\")\n",
    "            else:\n",
    "                print(\"  Mass balance OK\")\n",
    "                \n",
    "elif 'results' in locals():\n",
    "    print(f\"\\nSimulation completed but results status: {results.get('status', 'unknown')}\")\n",
    "    print(f\"Message: {results.get('message', 'No message')}\")\n",
    "    if 'results' in results:\n",
    "        print(f\"Available sections: {list(results['results'].keys())}\")\n",
    "else:\n",
    "    print(\"\\nNo results available - check previous cells for errors\")"
   ]
  },
  {
   "cell_type": "markdown",
   "id": "13fb3b47",
   "metadata": {
    "papermill": {
     "duration": 0.01226,
     "end_time": "2025-07-20T18:28:38.669986",
     "exception": false,
     "start_time": "2025-07-20T18:28:38.657726",
     "status": "completed"
    },
    "tags": []
   },
   "source": [
    "## Export Results"
   ]
  },
  {
   "cell_type": "code",
   "execution_count": 10,
   "id": "a19bd5e3",
   "metadata": {
    "execution": {
     "iopub.execute_input": "2025-07-20T18:28:38.690815Z",
     "iopub.status.busy": "2025-07-20T18:28:38.689801Z",
     "iopub.status.idle": "2025-07-20T18:28:38.704261Z",
     "shell.execute_reply": "2025-07-20T18:28:38.703739Z"
    },
    "papermill": {
     "duration": 0.026329,
     "end_time": "2025-07-20T18:28:38.706351",
     "exception": false,
     "start_time": "2025-07-20T18:28:38.680022",
     "status": "completed"
    },
    "tags": [
     "results"
    ]
   },
   "outputs": [
    {
     "data": {
      "text/plain": [
       "{'status': 'success',\n",
       " 'message': 'RO system simulation completed successfully',\n",
       " 'results': {'performance': {'system_recovery': 0.7500075599029904,\n",
       "   'total_permeate_flow_m3_h': 114.28194799119912,\n",
       "   'total_permeate_tds_mg_l': 54.06379574149761,\n",
       "   'total_power_consumption_kW': 52.793596448790666,\n",
       "   'specific_energy_kWh_m3': 0.4619591928276924},\n",
       "  'economics': {'capital_cost_usd': 0,\n",
       "   'operating_cost_usd_year': 0,\n",
       "   'lcow_usd_m3': 0},\n",
       "  'stage_results': [{'stage': 1,\n",
       "    'recovery': 0.5518480073601302,\n",
       "    'feed_flow_kg_s': 43.17311786610233,\n",
       "    'permeate_flow_kg_s': 23.775866115966824,\n",
       "    'concentrate_flow_kg_s': 19.397251750135506,\n",
       "    'feed_pressure_bar': 9.93261291740647,\n",
       "    'concentrate_pressure_bar': 9.43261291740647,\n",
       "    'permeate_pressure_bar': 1.01325,\n",
       "    'pump_power_kW': 48.13458831546649,\n",
       "    'ion_data': {'Na_+': {'feed_mg_l': 826.1697306909808,\n",
       "      'permeate_mg_l': 16.002942138184714,\n",
       "      'concentrate_mg_l': 1819.2185060722413,\n",
       "      'rejection': 0.9806299582958572,\n",
       "      'feed_flow_kg_s': 0.03566832316052773,\n",
       "      'permeate_flow_kg_s': 0.00038048380973904365,\n",
       "      'concentrate_flow_kg_s': 0.035287839350788684},\n",
       "     'Cl_-': {'feed_mg_l': 1276.083761764757,\n",
       "      'permeate_mg_l': 24.089709951985345,\n",
       "      'concentrate_mg_l': 2810.6951251337623,\n",
       "      'rejection': 0.9811221561830153,\n",
       "      'feed_flow_kg_s': 0.0550925146536891,\n",
       "      'permeate_flow_kg_s': 0.0005727537185908772,\n",
       "      'concentrate_flow_kg_s': 0.054519760935098215}}},\n",
       "   {'stage': 2,\n",
       "    'recovery': 0.41279791425601225,\n",
       "    'feed_flow_kg_s': 19.397251750135506,\n",
       "    'permeate_flow_kg_s': 7.970835691558799,\n",
       "    'concentrate_flow_kg_s': 11.426416058576708,\n",
       "    'feed_pressure_bar': 11.354125590784701,\n",
       "    'concentrate_pressure_bar': 10.8541255907847,\n",
       "    'permeate_pressure_bar': 1.01325,\n",
       "    'pump_power_kW': 4.659008133324181,\n",
       "    'ion_data': {'Na_+': {'feed_mg_l': 1819.2185060722413,\n",
       "      'permeate_mg_l': 38.0895245741313,\n",
       "      'concentrate_mg_l': 3061.697896304013,\n",
       "      'rejection': 0.9790626994794771,\n",
       "      'feed_flow_kg_s': 0.035287839350788684,\n",
       "      'permeate_flow_kg_s': 0.0003036053419499918,\n",
       "      'concentrate_flow_kg_s': 0.0349842340088387},\n",
       "     'Cl_-': {'feed_mg_l': 2810.6951251337623,\n",
       "      'permeate_mg_l': 57.63655935936397,\n",
       "      'concentrate_mg_l': 4731.1728466284985,\n",
       "      'rejection': 0.9794938416322827,\n",
       "      'feed_flow_kg_s': 0.054519760935098215,\n",
       "      'permeate_flow_kg_s': 0.0004594115444802657,\n",
       "      'concentrate_flow_kg_s': 0.05406034939061795}}}],\n",
       "  'mass_balance': {'mass_balance_error': 4.188429994065638e-17,\n",
       "   'mass_balance_ok': True},\n",
       "  'ion_analysis': {'Na_+': {'fresh_feed_mg_l': 786.0000000000001,\n",
       "    'combined_permeate_mg_l': 21.54835345846448,\n",
       "    'disposal_mg_l': 3061.697896304013,\n",
       "    'overall_rejection': 0.972584792037577},\n",
       "   'Cl_-': {'fresh_feed_mg_l': 1214.0,\n",
       "    'combined_permeate_mg_l': 32.51251954703735,\n",
       "    'disposal_mg_l': 4731.1728466284985,\n",
       "    'overall_rejection': 0.9732186824159494}}},\n",
       " 'summary': {'system_recovery': 0.7500075599029904,\n",
       "  'permeate_tds_mg_l': 54.06379574149761,\n",
       "  'specific_energy_kwh_m3': 0.4619591928276924,\n",
       "  'total_power_kw': 0},\n",
       " 'property_package': 'MCAS',\n",
       " 'initialization_strategy': 'sequential',\n",
       " 'solver_info': {'termination_condition': 'optimal',\n",
       "  'solve_time': 0,\n",
       "  'iterations': 0}}"
      ]
     },
     "execution_count": 10,
     "metadata": {},
     "output_type": "execute_result"
    }
   ],
   "source": [
    "# Results cell - tagged for papermill to extract\n",
    "# This cell contains the complete results dictionary\n",
    "results"
   ]
  },
  {
   "cell_type": "markdown",
   "id": "1585ca8b",
   "metadata": {
    "papermill": {
     "duration": 0.013862,
     "end_time": "2025-07-20T18:28:38.731973",
     "exception": false,
     "start_time": "2025-07-20T18:28:38.718111",
     "status": "completed"
    },
    "tags": []
   },
   "source": [
    "## Save Results to JSON"
   ]
  },
  {
   "cell_type": "code",
   "execution_count": 11,
   "id": "cbd18052",
   "metadata": {
    "execution": {
     "iopub.execute_input": "2025-07-20T18:28:38.753477Z",
     "iopub.status.busy": "2025-07-20T18:28:38.753477Z",
     "iopub.status.idle": "2025-07-20T18:28:38.765909Z",
     "shell.execute_reply": "2025-07-20T18:28:38.764788Z"
    },
    "papermill": {
     "duration": 0.027323,
     "end_time": "2025-07-20T18:28:38.767442",
     "exception": false,
     "start_time": "2025-07-20T18:28:38.740119",
     "status": "completed"
    },
    "tags": []
   },
   "outputs": [
    {
     "name": "stdout",
     "output_type": "stream",
     "text": [
      "\n",
      "Results saved to: C:\\Users\\hvksh\\mcp-servers\\ro-design-mcp\\results\\simulation_results_20250720_142838.json\n"
     ]
    }
   ],
   "source": [
    "# Save results to JSON file for archival\n",
    "if results.get(\"status\") == \"success\":\n",
    "    import json\n",
    "    from datetime import datetime\n",
    "    \n",
    "    # Create results directory if it doesn't exist\n",
    "    results_dir = Path(project_root) / \"results\"\n",
    "    results_dir.mkdir(exist_ok=True)\n",
    "    \n",
    "    # Generate filename with timestamp\n",
    "    timestamp = datetime.now().strftime(\"%Y%m%d_%H%M%S\")\n",
    "    output_file = results_dir / f\"simulation_results_{timestamp}.json\"\n",
    "    \n",
    "    # Save results\n",
    "    with open(output_file, 'w') as f:\n",
    "        json.dump(results, f, indent=2, default=str)\n",
    "    \n",
    "    print(f\"\\nResults saved to: {output_file}\")"
   ]
  }
 ],
 "metadata": {
  "celltoolbar": "Tags",
  "kernelspec": {
   "display_name": "Python 3",
   "language": "python",
   "name": "python3"
  },
  "language_info": {
   "codemirror_mode": {
    "name": "ipython",
    "version": 3
   },
   "file_extension": ".py",
   "mimetype": "text/x-python",
   "name": "python",
   "nbconvert_exporter": "python",
   "pygments_lexer": "ipython3",
   "version": "3.12.10"
  },
  "papermill": {
   "default_parameters": {},
   "duration": 26.417913,
   "end_time": "2025-07-20T18:28:39.564552",
   "environment_variables": {},
   "exception": null,
   "input_path": "C:\\Users\\hvksh\\mcp-servers\\ro-design-mcp\\notebooks\\ro_simulation_mcas_template.ipynb",
   "output_path": "C:\\Users\\hvksh\\mcp-servers\\ro-design-mcp\\results\\ro_simulation_mcas_20250720_142812.ipynb",
   "parameters": {
    "configuration": {
     "achieved_recovery": 0.7500302405264233,
     "array_notation": "18:8",
     "feed_flow_m3h": 152.6797542492407,
     "flux_summary": {
      "average_flux_lmh": 15.784600959989515,
      "max_flux_ratio": 0.999758437378559,
      "min_flux_ratio": 0.9049033364776646
     },
     "recovery_achievement": {
      "achieved_recovery_percent": 75.00302405264233,
      "met_target": true,
      "recovery_error_percent": 0.0030240526423308545,
      "target_recovery_percent": 75
     },
     "recovery_error": 3.0240526423308545e-05,
     "recycle_info": {
      "disposal_flow_m3h": 37.5,
      "effective_feed_flow_m3h": 152.6797542492407,
      "recycle_flow_m3h": 2.6797542492406876,
      "recycle_ratio": 0.017551470805134695,
      "recycle_split_ratio": 0.06669414234387283,
      "uses_recycle": true
     },
     "stage_count": 2,
     "stages": [
      {
       "concentrate_flow_m3h": 68.4257689553891,
       "concentrate_margin_m3h": 0.3014316086327278,
       "concentrate_margin_percent": 8.612331675220798,
       "concentrate_per_vessel_m3h": 3.8014316086327278,
       "design_flux_lmh": 17.99565187281406,
       "feed_flow_m3h": 152.68429032820418,
       "flux_ratio": 0.999758437378559,
       "membrane_area_m2": 4682.16,
       "min_concentrate_required_m3h": 3.5,
       "permeate_flow_m3h": 84.25852137281508,
       "stage_number": 1,
       "stage_recovery": 0.5518480073601302,
       "vessel_count": 18
      },
      {
       "concentrate_flow_m3h": 40.17975424924069,
       "concentrate_margin_m3h": 1.2224692811550861,
       "concentrate_margin_percent": 32.17024424092332,
       "concentrate_per_vessel_m3h": 5.022469281155086,
       "design_flux_lmh": 13.57355004716497,
       "feed_flow_m3h": 68.4257689553891,
       "flux_ratio": 0.9049033364776646,
       "membrane_area_m2": 2080.96,
       "min_concentrate_required_m3h": 3.8,
       "permeate_flow_m3h": 28.246014706148415,
       "stage_number": 2,
       "stage_recovery": 0.41279791425601225,
       "vessel_count": 8
      }
     ],
     "total_membrane_area_m2": 6763.12,
     "total_vessels": 26
    },
    "feed_ion_composition": "{\"Na+\": 786, \"Cl-\": 1214}",
    "feed_salinity_ppm": 2000.0,
    "feed_temperature_c": 25.0,
    "initialization_strategy": "sequential",
    "membrane_properties": null,
    "membrane_type": "brackish",
    "optimize_pumps": true,
    "project_root": "C:\\Users\\hvksh\\mcp-servers\\ro-design-mcp"
   },
   "start_time": "2025-07-20T18:28:13.146639",
   "version": "2.6.0"
  }
 },
 "nbformat": 4,
 "nbformat_minor": 5
}