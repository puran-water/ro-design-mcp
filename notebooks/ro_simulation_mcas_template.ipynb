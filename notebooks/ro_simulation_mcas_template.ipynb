{
 "cells": [
  {
   "cell_type": "markdown",
   "metadata": {},
   "source": [
    "# RO System Simulation Engine with MCAS\n",
    "\n",
    "This notebook serves as a simulation engine for RO systems using the MCAS property package,\n",
    "leveraging modular utility functions for maintainability and consistency."
   ]
  },
  {
   "cell_type": "code",
   "execution_count": null,
   "metadata": {
    "tags": [
     "parameters"
    ]
   },
   "outputs": [],
   "source": [
    "# Parameters cell - will be replaced by papermill\n",
    "project_root = \"/path/to/project\"  # Will be replaced by papermill\n",
    "configuration = {}  # RO configuration from optimization\n",
    "feed_salinity_ppm = 5000\n",
    "feed_temperature_c = 25.0\n",
    "membrane_type = \"brackish\"\n",
    "membrane_properties = None\n",
    "optimize_pumps = False\n",
    "feed_ion_composition = None  # JSON string with ion concentrations in mg/L\n",
    "initialization_strategy = \"sequential\"  # \"sequential\", \"block_triangular\", \"custom_guess\", \"relaxation\""
   ]
  },
  {
   "cell_type": "markdown",
   "metadata": {},
   "source": [
    "## Setup and Imports"
   ]
  },
  {
   "cell_type": "code",
   "execution_count": null,
   "metadata": {},
   "outputs": [],
   "source": [
    "# System imports\n",
    "import sys\n",
    "import os\n",
    "import json\n",
    "import warnings\n",
    "from pathlib import Path\n",
    "\n",
    "# Add project root to path\n",
    "sys.path.insert(0, project_root)\n",
    "\n",
    "# Import all utility modules for MCAS simulation\n",
    "from utils.mcas_builder import (\n",
    "    build_mcas_property_configuration,\n",
    "    check_electroneutrality,\n",
    "    get_total_dissolved_solids,\n",
    "    calculate_ionic_strength\n",
    ")\n",
    "from utils.ro_model_builder import build_ro_model_mcas\n",
    "from utils.ro_initialization import initialize_multistage_ro_elegant\n",
    "from utils.ro_solver import initialize_and_solve_mcas\n",
    "from utils.ro_results_extractor import extract_results_mcas\n",
    "from utils.response_formatter import format_simulation_response\n",
    "from utils.config import get_config\n",
    "from utils.logging_config import get_configured_logger\n",
    "\n",
    "# Configure logging\n",
    "logger = get_configured_logger(__name__)\n",
    "warnings.filterwarnings('ignore')\n",
    "\n",
    "# Results storage\n",
    "results = {}"
   ]
  },
  {
   "cell_type": "markdown",
   "metadata": {},
   "source": [
    "## Validate and Prepare Ion Composition"
   ]
  },
  {
   "cell_type": "code",
   "execution_count": null,
   "metadata": {},
   "outputs": [],
   "source": [
    "# Validate configuration\n",
    "if not isinstance(configuration, dict) or \"stages\" not in configuration:\n",
    "    raise ValueError(\"Invalid configuration provided\")\n",
    "\n",
    "# Parse and validate ion composition (required for MCAS)\n",
    "if not feed_ion_composition:\n",
    "    raise ValueError(\"Ion composition is required for MCAS simulation\")\n",
    "\n",
    "if isinstance(feed_ion_composition, str):\n",
    "    parsed_ion_composition = json.loads(feed_ion_composition)\n",
    "else:\n",
    "    parsed_ion_composition = feed_ion_composition\n",
    "\n",
    "# Basic validation of ion composition\n",
    "if not isinstance(parsed_ion_composition, dict):\n",
    "    raise ValueError(\"Ion composition must be a dictionary\")\n",
    "\n",
    "for ion, conc in parsed_ion_composition.items():\n",
    "    if not isinstance(conc, (int, float)) or conc < 0:\n",
    "        raise ValueError(f\"Invalid concentration for {ion}: {conc}\")\n",
    "\n",
    "# Add feed_flow_m3h to configuration if missing\n",
    "if \"feed_flow_m3h\" not in configuration:\n",
    "    if \"recycle_info\" in configuration and \"effective_feed_flow_m3h\" in configuration[\"recycle_info\"]:\n",
    "        configuration[\"feed_flow_m3h\"] = configuration[\"recycle_info\"][\"effective_feed_flow_m3h\"]\n",
    "    elif \"stages\" in configuration and configuration[\"stages\"]:\n",
    "        first_stage = configuration[\"stages\"][0]\n",
    "        if \"feed_flow_m3h\" in first_stage:\n",
    "            configuration[\"feed_flow_m3h\"] = first_stage[\"feed_flow_m3h\"]\n",
    "        else:\n",
    "            configuration[\"feed_flow_m3h\"] = 100.0\n",
    "    else:\n",
    "        configuration[\"feed_flow_m3h\"] = 100.0\n",
    "\n",
    "print(f\"Configuration: {configuration.get('array_notation', 'Unknown')}\")\n",
    "print(f\"Feed flow: {configuration['feed_flow_m3h']} m³/h\")\n",
    "print(f\"Feed salinity: {feed_salinity_ppm} ppm\")\n",
    "print(f\"Feed temperature: {feed_temperature_c}°C\")\n",
    "print(f\"Initialization strategy: {initialization_strategy}\")"
   ]
  },
  {
   "cell_type": "markdown",
   "metadata": {},
   "source": [
    "## Build MCAS Property Configuration"
   ]
  },
  {
   "cell_type": "code",
   "execution_count": null,
   "metadata": {},
   "outputs": [],
   "source": [
    "# Build MCAS property configuration from ion composition\n",
    "mcas_config = build_mcas_property_configuration(\n",
    "    feed_composition=parsed_ion_composition,\n",
    "    include_scaling_ions=True,\n",
    "    include_ph_species=True\n",
    ")\n",
    "\n",
    "# Display ion composition analysis\n",
    "print(\"\\nFeed Ion Composition (mg/L):\")\n",
    "for ion, conc in sorted(parsed_ion_composition.items()):\n",
    "    print(f\"  {ion:8s}: {conc:8.1f}\")\n",
    "\n",
    "# Check electroneutrality\n",
    "is_neutral, imbalance = check_electroneutrality(parsed_ion_composition)\n",
    "if not is_neutral:\n",
    "    print(f\"\\nWarning: Charge imbalance of {imbalance:.1%}\")\n",
    "else:\n",
    "    print(\"\\nCharge balance: OK\")\n",
    "\n",
    "# Calculate properties\n",
    "actual_tds = get_total_dissolved_solids(parsed_ion_composition)\n",
    "ionic_strength = calculate_ionic_strength(parsed_ion_composition)\n",
    "\n",
    "print(f\"\\nTotal TDS: {actual_tds:.0f} mg/L\")\n",
    "print(f\"Ionic strength: {ionic_strength:.3f} mol/L\")\n",
    "print(f\"\\nMCAS components: {', '.join(mcas_config['solute_list'])}\")"
   ]
  },
  {
   "cell_type": "markdown",
   "metadata": {},
   "source": [
    "## Build and Initialize Model"
   ]
  },
  {
   "cell_type": "code",
   "execution_count": null,
   "metadata": {},
   "outputs": [],
   "source": [
    "# Build the RO model with MCAS\n",
    "logger.info(\"Building RO model with MCAS property package...\")\n",
    "\n",
    "model = build_ro_model_mcas(\n",
    "    config_data=configuration,\n",
    "    mcas_config=mcas_config,\n",
    "    feed_salinity_ppm=feed_salinity_ppm,\n",
    "    feed_temperature_c=feed_temperature_c,\n",
    "    membrane_type=membrane_type,\n",
    "    membrane_properties=membrane_properties\n",
    ")\n",
    "\n",
    "print(f\"Model built successfully with {configuration['stage_count']} stages\")"
   ]
  },
  {
   "cell_type": "markdown",
   "metadata": {},
   "source": [
    "## Solve Model"
   ]
  },
  {
   "cell_type": "code",
   "execution_count": null,
   "metadata": {},
   "outputs": [],
   "source": [
    "# Initialize and solve the model\n",
    "try:\n",
    "    logger.info(f\"Initializing and solving with strategy: {initialization_strategy}\")\n",
    "    \n",
    "    # Use the centralized solver function\n",
    "    solver_results = initialize_and_solve_mcas(\n",
    "        model=model,\n",
    "        config_data=configuration,\n",
    "        optimize_pumps=optimize_pumps\n",
    "    )\n",
    "    \n",
    "    if solver_results['status'] == 'success':\n",
    "        print(\"\\nSolution found successfully!\")\n",
    "        print(f\"Solver time: {solver_results.get('solve_time', 0):.1f} seconds\")\n",
    "    else:\n",
    "        raise RuntimeError(f\"Solver failed: {solver_results.get('message', 'Unknown error')}\")\n",
    "        \n",
    "except Exception as e:\n",
    "    logger.error(f\"Solve failed: {str(e)}\", exc_info=True)\n",
    "    results = {\n",
    "        \"status\": \"error\",\n",
    "        \"message\": f\"Simulation failed during solve: {str(e)}\",\n",
    "        \"error_type\": type(e).__name__\n",
    "    }\n",
    "    raise"
   ]
  },
  {
   "cell_type": "markdown",
   "metadata": {},
   "source": [
    "## Extract and Format Results"
   ]
  },
  {
   "cell_type": "code",
   "execution_count": null,
   "metadata": {},
   "outputs": [],
   "source": [
    "# Extract results from the solved model\n",
    "if solver_results['status'] == 'success':\n",
    "    logger.info(\"Extracting results...\")\n",
    "    \n",
    "    # Use the centralized results extractor\n",
    "    raw_results = extract_results_mcas(model, configuration)\n",
    "    \n",
    "    # Format results for output\n",
    "    results = format_simulation_response(raw_results)\n",
    "    \n",
    "    # Add metadata\n",
    "    results[\"property_package\"] = \"MCAS\"\n",
    "    results[\"initialization_strategy\"] = initialization_strategy\n",
    "    results[\"solver_info\"] = {\n",
    "        \"termination_condition\": solver_results.get('termination_condition', 'optimal'),\n",
    "        \"solve_time\": solver_results.get('solve_time', 0),\n",
    "        \"iterations\": solver_results.get('iterations', 0)\n",
    "    }\n",
    "    \n",
    "    logger.info(\"Results extraction complete\")\n",
    "        \n",
    "else:\n",
    "    results = {\n",
    "        \"status\": \"error\",\n",
    "        \"message\": f\"Solver did not succeed: {solver_results.get('message', 'Unknown error')}\"\n",
    "    }"
   ]
  },
  {
   "cell_type": "markdown",
   "metadata": {},
   "source": [
    "## Display Results Summary"
   ]
  },
  {
   "cell_type": "code",
   "execution_count": null,
   "metadata": {},
   "outputs": [],
   "source": [
    "# Display comprehensive results summary\n",
    "if 'results' in locals() and results.get(\"status\") == \"success\":\n",
    "    print(\"\\n\" + \"=\"*60)\n",
    "    print(\"SIMULATION RESULTS - MCAS MODEL\")\n",
    "    print(\"=\"*60)\n",
    "    \n",
    "    # Get the actual results data (nested under 'results' key after formatting)\n",
    "    sim_data = results.get('results', {})\n",
    "    \n",
    "    # Overall performance\n",
    "    if 'performance' in sim_data:\n",
    "        perf = sim_data['performance']\n",
    "        print(f\"\\nOverall Performance:\")\n",
    "        print(f\"  Available keys: {list(perf.keys())}\")\n",
    "        \n",
    "        # Use flexible key names\n",
    "        recovery_key = 'system_recovery' if 'system_recovery' in perf else 'total_recovery'\n",
    "        feed_flow_key = 'feed_flow_m3h' if 'feed_flow_m3h' in perf else 'feed_flow'\n",
    "        perm_flow_key = 'permeate_flow_m3h' if 'permeate_flow_m3h' in perf else 'permeate_flow'\n",
    "        perm_tds_key = 'permeate_tds_ppm' if 'permeate_tds_ppm' in perf else 'permeate_tds'\n",
    "        \n",
    "        if recovery_key in perf:\n",
    "            print(f\"  Total Recovery: {perf[recovery_key]:.1%}\")\n",
    "        if feed_flow_key in perf:\n",
    "            print(f\"  Feed Flow: {perf[feed_flow_key]:.1f} m³/h\")\n",
    "        if perm_flow_key in perf:\n",
    "            print(f\"  Permeate Flow: {perf[perm_flow_key]:.1f} m³/h\")\n",
    "        if perm_tds_key in perf:\n",
    "            print(f\"  Permeate TDS: {perf[perm_tds_key]:.0f} ppm\")\n",
    "    \n",
    "    # Economics\n",
    "    if 'economics' in sim_data:\n",
    "        econ = sim_data['economics']\n",
    "        print(f\"\\nEconomics:\")\n",
    "        print(f\"  Available keys: {list(econ.keys())}\")\n",
    "        \n",
    "        if 'specific_energy_kwh_m3' in econ:\n",
    "            print(f\"  Specific Energy: {econ['specific_energy_kwh_m3']:.2f} kWh/m³\")\n",
    "        if 'total_power_kw' in econ:\n",
    "            print(f\"  Total Power: {econ['total_power_kw']:.1f} kW\")\n",
    "        if 'lcow_usd_m3' in econ:\n",
    "            print(f\"  LCOW: ${econ['lcow_usd_m3']:.2f}/m³\")\n",
    "        if 'capital_cost_usd' in econ:\n",
    "            print(f\"  CAPEX: ${econ['capital_cost_usd']:,.0f}\")\n",
    "        if 'annual_opex_usd' in econ:\n",
    "            print(f\"  Annual OPEX: ${econ['annual_opex_usd']:,.0f}/year\")\n",
    "    \n",
    "    # Ion rejection\n",
    "    if \"ion_tracking\" in sim_data and \"overall_rejection\" in sim_data[\"ion_tracking\"]:\n",
    "        print(f\"\\nIon Rejection:\")\n",
    "        for ion, rejection in sorted(sim_data['ion_tracking']['overall_rejection'].items()):\n",
    "            print(f\"  {ion:8s}: {rejection:.1%}\")\n",
    "    \n",
    "    # Stage details\n",
    "    if 'stage_results' in sim_data:\n",
    "        print(f\"\\nStage Details:\")\n",
    "        stages = sim_data['stage_results']\n",
    "        if isinstance(stages, list):\n",
    "            for i, stage in enumerate(stages, 1):\n",
    "                print(f\"\\n  Stage {i} keys: {list(stage.keys())}\")\n",
    "                print(f\"  Stage {i}:\")\n",
    "                \n",
    "                # Use flexible key access\n",
    "                if 'feed_pressure_bar' in stage:\n",
    "                    print(f\"    Feed pressure: {stage['feed_pressure_bar']:.1f} bar\")\n",
    "                if 'water_recovery' in stage:\n",
    "                    print(f\"    Water recovery: {stage['water_recovery']:.1%}\")\n",
    "                if 'permeate_flow_m3h' in stage:\n",
    "                    print(f\"    Permeate flow: {stage['permeate_flow_m3h']:.1f} m³/h\")\n",
    "                if 'permeate_tds_ppm' in stage:\n",
    "                    print(f\"    Permeate TDS: {stage['permeate_tds_ppm']:.0f} ppm\")\n",
    "                if 'pump_power_kw' in stage:\n",
    "                    print(f\"    Pump power: {stage['pump_power_kw']:.1f} kW\")\n",
    "    \n",
    "    # Mass balance check\n",
    "    if \"mass_balance\" in sim_data:\n",
    "        mb = sim_data[\"mass_balance\"]\n",
    "        print(f\"\\nMass Balance:\")\n",
    "        if 'error_percent' in mb:\n",
    "            print(f\"  Error: {mb['error_percent']:.2f}%\")\n",
    "            if mb['error_percent'] > 0.1:\n",
    "                print(\"  WARNING: Mass balance error exceeds 0.1%\")\n",
    "            else:\n",
    "                print(\"  Mass balance OK\")\n",
    "                \n",
    "elif 'results' in locals():\n",
    "    print(f\"\\nSimulation completed but results status: {results.get('status', 'unknown')}\")\n",
    "    print(f\"Message: {results.get('message', 'No message')}\")\n",
    "    if 'results' in results:\n",
    "        print(f\"Available sections: {list(results['results'].keys())}\")\n",
    "else:\n",
    "    print(\"\\nNo results available - check previous cells for errors\")"
   ]
  },
  {
   "cell_type": "markdown",
   "metadata": {},
   "source": [
    "## Export Results"
   ]
  },
  {
   "cell_type": "code",
   "execution_count": null,
   "metadata": {
    "tags": [
     "results"
    ]
   },
   "outputs": [],
   "source": [
    "# Results cell - tagged for papermill to extract\n",
    "# This cell contains the complete results dictionary\n",
    "results"
   ]
  },
  {
   "cell_type": "markdown",
   "metadata": {},
   "source": [
    "## Save Results to JSON"
   ]
  },
  {
   "cell_type": "code",
   "execution_count": null,
   "metadata": {},
   "outputs": [],
   "source": [
    "# Save results to JSON file for archival\n",
    "if results.get(\"status\") == \"success\":\n",
    "    import json\n",
    "    from datetime import datetime\n",
    "    \n",
    "    # Create results directory if it doesn't exist\n",
    "    results_dir = Path(project_root) / \"results\"\n",
    "    results_dir.mkdir(exist_ok=True)\n",
    "    \n",
    "    # Generate filename with timestamp\n",
    "    timestamp = datetime.now().strftime(\"%Y%m%d_%H%M%S\")\n",
    "    output_file = results_dir / f\"simulation_results_{timestamp}.json\"\n",
    "    \n",
    "    # Save results\n",
    "    with open(output_file, 'w') as f:\n",
    "        json.dump(results, f, indent=2, default=str)\n",
    "    \n",
    "    print(f\"\\nResults saved to: {output_file}\")"
   ]
  }
 ],
 "metadata": {
  "celltoolbar": "Tags",
  "kernelspec": {
   "display_name": "Python 3",
   "language": "python",
   "name": "python3"
  },
  "language_info": {
   "codemirror_mode": {
    "name": "ipython",
    "version": 3
   },
   "file_extension": ".py",
   "mimetype": "text/x-python",
   "name": "python",
   "nbconvert_exporter": "python",
   "pygments_lexer": "ipython3",
   "version": "3.8.0"
  }
 },
 "nbformat": 4,
 "nbformat_minor": 4
}
