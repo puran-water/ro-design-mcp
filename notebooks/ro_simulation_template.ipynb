{
 "cells": [
  {
   "cell_type": "markdown",
   "metadata": {},
   "source": [
    "# RO System Simulation Template\n",
    "\n",
    "This notebook template is used by the simulate_ro_system tool to run WaterTAP simulations.\n",
    "It accepts parameters via papermill and returns performance results."
   ]
  },
  {
   "cell_type": "code",
   "execution_count": null,
   "metadata": {
    "tags": [
     "parameters"
    ]
   },
   "outputs": [],
   "source": "# Parameters cell - will be replaced by papermill\nproject_root = \"/path/to/project\"  # Will be replaced by papermill\nconfiguration = {}\nfeed_salinity_ppm = 5000\nfeed_temperature_c = 25.0\nmembrane_type = \"brackish\"\nmembrane_properties = None\noptimize_pumps = True  # Changed default to True to match simulate_ro.py\n# Solver paths (optional, passed by simulate_ro.py)\nidaes_bin_dir = None\npyomo_lib_path = None"
  },
  {
   "cell_type": "code",
   "source": "# Environment setup - configure solver paths\nimport os\nimport platform\n\n# Add solver paths to environment if provided\nif idaes_bin_dir and os.path.exists(idaes_bin_dir):\n    if 'PATH' in os.environ:\n        os.environ['PATH'] = f\"{idaes_bin_dir};{os.environ['PATH']}\"\n    else:\n        os.environ['PATH'] = idaes_bin_dir\n    print(f\"Added IDAES binary directory to PATH: {idaes_bin_dir}\")\n\nif pyomo_lib_path and os.path.exists(pyomo_lib_path):\n    if 'PATH' in os.environ:\n        os.environ['PATH'] = f\"{pyomo_lib_path};{os.environ['PATH']}\"\n    else:\n        os.environ['PATH'] = pyomo_lib_path\n    print(f\"Added Pyomo lib path to PATH: {pyomo_lib_path}\")\n\n# Verify solver availability\ntry:\n    from pyomo.environ import SolverFactory\n    solver = SolverFactory('ipopt')\n    if solver.available():\n        print(f\"ipopt solver is available at: {solver.executable()}\")\n    else:\n        print(\"WARNING: ipopt solver not available!\")\n        # Try to find it manually\n        ipopt_exe = \"ipopt.exe\" if platform.system() == \"Windows\" else \"ipopt\"\n        for path_dir in os.environ.get('PATH', '').split(';' if platform.system() == 'Windows' else ':'):\n            ipopt_path = os.path.join(path_dir, ipopt_exe)\n            if os.path.exists(ipopt_path):\n                print(f\"Found ipopt at: {ipopt_path}\")\n                solver.set_executable(ipopt_path)\n                if solver.available():\n                    print(\"Successfully configured ipopt solver!\")\n                break\nexcept Exception as e:\n    print(f\"Error checking solver: {e}\")",
   "metadata": {},
   "execution_count": null,
   "outputs": []
  },
  {
   "cell_type": "code",
   "execution_count": null,
   "metadata": {},
   "outputs": [],
   "source": [
    "# Import required libraries\n",
    "import numpy as np\n",
    "import pandas as pd\n",
    "from pyomo.environ import *\n",
    "from pyomo.network import Arc\n",
    "import sys\n",
    "import os\n",
    "\n",
    "# Add parent directory to path for utils imports using project_root parameter\n",
    "sys.path.insert(0, project_root)\n",
    "\n",
    "# Import our elegant initialization utilities\n",
    "from utils.ro_initialization import (\n",
    "    calculate_required_pressure,\n",
    "    initialize_pump_with_pressure,\n",
    "    initialize_ro_unit_elegant,\n",
    "    initialize_multistage_ro_elegant\n",
    ")\n",
    "\n",
    "# WaterTAP imports\n",
    "from watertap.core.solvers import get_solver\n",
    "from watertap.unit_models.reverse_osmosis_0D import (\n",
    "    ReverseOsmosis0D,\n",
    "    ConcentrationPolarizationType,\n",
    "    MassTransferCoefficient,\n",
    "    PressureChangeType\n",
    ")\n",
    "from watertap.unit_models.pressure_changer import Pump\n",
    "from watertap.property_models.multicomp_aq_sol_prop_pack import MCASParameterBlock\n",
    "import watertap.property_models.seawater_prop_pack as props_sw\n",
    "\n",
    "# IDAES imports\n",
    "from idaes.core import FlowsheetBlock\n",
    "from idaes.core.util.scaling import calculate_scaling_factors\n",
    "from idaes.core.util.model_statistics import degrees_of_freedom\n",
    "from idaes.core.util.initialization import propagate_state\n",
    "from idaes.core.util import DiagnosticsToolbox\n",
    "from idaes.models.unit_models import Feed, Product\n",
    "\n",
    "import warnings\n",
    "warnings.filterwarnings('ignore')\n",
    "\n",
    "import logging\n",
    "logging.basicConfig(level=logging.INFO)\n",
    "\n",
    "# Results storage\n",
    "results = {}"
   ]
  },
  {
   "cell_type": "markdown",
   "metadata": {},
   "source": [
    "## Build WaterTAP Model"
   ]
  },
  {
   "cell_type": "code",
   "execution_count": null,
   "metadata": {},
   "outputs": [],
   "source": "def build_ro_model_simple(config_data, feed_salinity_ppm, feed_temperature_c, membrane_type):\n    \"\"\"\n    Build simplified WaterTAP RO model using fixed pressure drops and SD transport model.\n    This avoids FBBT issues with calculated pressure change.\n    \"\"\"\n    # Create concrete model\n    m = ConcreteModel()\n    m.fs = FlowsheetBlock(dynamic=False)\n    \n    # Import TransportModel\n    from watertap.core.membrane_channel_base import TransportModel\n    \n    # Property package - using seawater\n    m.fs.properties = props_sw.SeawaterParameterBlock()\n    \n    # Feed conditions\n    feed_flow_m3_s = config_data['feed_flow_m3h'] / 3600  # Convert to m³/s\n    feed_mass_frac = feed_salinity_ppm / 1e6  # Convert ppm to mass fraction\n    \n    # Create feed unit\n    m.fs.feed = Feed(property_package=m.fs.properties)\n    \n    # Build stages\n    n_stages = config_data['stage_count']\n    \n    # First, create all RO stages and pumps using setattr for proper parent assignment\n    for i in range(1, n_stages + 1):\n        # Create feed pump for stage using setattr\n        setattr(m.fs, f\"pump{i}\", Pump(property_package=m.fs.properties))\n        \n        # Create RO stage with SIMPLIFIED configuration and SD model\n        setattr(m.fs, f\"ro_stage{i}\", ReverseOsmosis0D(\n            property_package=m.fs.properties,\n            has_pressure_change=True,\n            concentration_polarization_type=ConcentrationPolarizationType.none,\n            mass_transfer_coefficient=MassTransferCoefficient.none,\n            pressure_change_type=PressureChangeType.fixed_per_stage,\n            transport_model=TransportModel.SD  # Use SD model for consistency\n        ))\n        \n        # Create permeate product for each stage\n        setattr(m.fs, f\"stage_product{i}\", Product(property_package=m.fs.properties))\n    \n    # Create final concentrate product\n    m.fs.concentrate_product = Product(property_package=m.fs.properties)\n    \n    # Connect feed to first pump\n    m.fs.feed_to_pump1 = Arc(\n        source=m.fs.feed.outlet,\n        destination=m.fs.pump1.inlet\n    )\n    \n    # Connect first pump to first RO\n    m.fs.pump1_to_ro1 = Arc(\n        source=m.fs.pump1.outlet,\n        destination=m.fs.ro_stage1.inlet\n    )\n    \n    # Connect permeate from first RO to product\n    m.fs.ro1_perm_to_prod = Arc(\n        source=m.fs.ro_stage1.permeate,\n        destination=m.fs.stage_product1.inlet\n    )\n    \n    # Connect stages\n    if n_stages > 1:\n        for i in range(1, n_stages):\n            # Connect concentrate of stage i to pump i+1\n            setattr(\n                m.fs, f\"stage{i}_to_pump{i+1}\",\n                Arc(\n                    source=getattr(m.fs, f\"ro_stage{i}\").retentate,\n                    destination=getattr(m.fs, f\"pump{i+1}\").inlet\n                )\n            )\n            # Connect pump i+1 to stage i+1\n            setattr(\n                m.fs, f\"pump{i+1}_to_stage{i+1}\",\n                Arc(\n                    source=getattr(m.fs, f\"pump{i+1}\").outlet,\n                    destination=getattr(m.fs, f\"ro_stage{i+1}\").inlet\n                )\n            )\n            # Connect permeate to product\n            setattr(\n                m.fs, f\"ro{i+1}_perm_to_prod{i+1}\",\n                Arc(\n                    source=getattr(m.fs, f\"ro_stage{i+1}\").permeate,\n                    destination=getattr(m.fs, f\"stage_product{i+1}\").inlet\n                )\n            )\n    \n    # Connect final concentrate to product\n    final_stage = n_stages\n    m.fs.final_conc_arc = Arc(\n        source=getattr(m.fs, f\"ro_stage{final_stage}\").retentate,\n        destination=m.fs.concentrate_product.inlet\n    )\n    \n    # Apply arcs to expand the network\n    TransformationFactory(\"network.expand_arcs\").apply_to(m)\n    \n    # NOW set membrane properties after model structure is built\n    for i in range(1, n_stages + 1):\n        stage_data = config_data['stages'][i-1]\n        ro = getattr(m.fs, f\"ro_stage{i}\")\n        \n        # Note: SD model doesn't use reflection coefficient\n        # Default membrane properties based on type\n        if membrane_type == \"seawater\":\n            ro.A_comp.fix(1.5e-12)  # m/s/Pa\n            ro.B_comp[0, 'TDS'].fix(1.0e-8)  # m/s\n        else:  # brackish\n            ro.A_comp.fix(4.2e-12)  # m/s/Pa\n            ro.B_comp[0, 'TDS'].fix(3.5e-8)  # m/s\n        \n        # Fix permeate pressure and pressure drop\n        ro.permeate.pressure.fix(101325)  # 1 atm\n        ro.deltaP.fix(-0.5e5)  # -0.5 bar pressure drop\n        \n        # Set membrane area\n        ro.area.fix(stage_data['membrane_area_m2'])\n    \n    # Set feed conditions\n    m.fs.feed.outlet.flow_mass_phase_comp[0, 'Liq', 'H2O'].fix(\n        feed_flow_m3_s * 1000 * (1 - feed_mass_frac)\n    )\n    m.fs.feed.outlet.flow_mass_phase_comp[0, 'Liq', 'TDS'].fix(\n        feed_flow_m3_s * 1000 * feed_mass_frac\n    )\n    m.fs.feed.outlet.temperature.fix(273.15 + feed_temperature_c)\n    m.fs.feed.outlet.pressure.fix(101325)  # 1 atm\n    \n    # Set pump efficiencies\n    for i in range(1, n_stages + 1):\n        getattr(m.fs, f\"pump{i}\").efficiency_pump.fix(0.8)\n    \n    # Set scaling\n    m.fs.properties.set_default_scaling(\"flow_mass_phase_comp\", 1, index=(\"Liq\", \"H2O\"))\n    m.fs.properties.set_default_scaling(\"flow_mass_phase_comp\", 1e2, index=(\"Liq\", \"TDS\"))\n    calculate_scaling_factors(m)\n    \n    return m"
  },
  {
   "cell_type": "code",
   "metadata": {},
   "source": "def initialize_and_solve_elegant(m, config_data, optimize_pumps=False):\n    \"\"\"\n    Initialize and solve the RO model using elegant initialization approach.\n    \n    When optimize_pumps=False: Just initialize and solve with fixed pumps\n    When optimize_pumps=True: Unfix pumps and add recovery constraints to match targets exactly\n    \"\"\"\n    # Get solver (no parameters to get_solver)\n    solver = get_solver()\n    \n    # Check initial degrees of freedom\n    print(f\"Initial degrees of freedom: {degrees_of_freedom(m)}\")\n    \n    # Use elegant initialization approach (pumps are fixed during this step)\n    try:\n        initialize_multistage_ro_elegant(m, config_data, verbose=True)\n        print(\"\\nInitialization successful using elegant approach!\")\n    except Exception as e:\n        print(f\"\\nInitialization error: {str(e)}\")\n        raise\n    \n    if not optimize_pumps:\n        # Simple solve with fixed pumps (no recovery constraints)\n        print(\"\\nSolving with fixed pump pressures...\")\n        results = solver.solve(m, tee=True, options={'linear_solver': 'ma27'})\n        \n        if results.solver.termination_condition == TerminationCondition.optimal:\n            print(\"\\nSolution found with fixed pumps!\")\n            # Report actual recoveries achieved\n            print(\"\\nActual recoveries achieved:\")\n            for i in range(1, config_data['stage_count'] + 1):\n                ro = getattr(m.fs, f\"ro_stage{i}\")\n                actual_recovery = value(ro.recovery_mass_phase_comp[0, 'Liq', 'H2O'])\n                print(f\"  Stage {i}: {actual_recovery:.1%}\")\n        \n        return results\n    \n    # If optimize_pumps=True, proceed with optimization\n    print(\"\\nOptimization requested - unfixing pump pressures...\")\n    \n    # First solve with fixed pumps to verify feasibility\n    print(\"\\nVerifying initial solution...\")\n    results = solver.solve(m, tee=False, options={'linear_solver': 'ma27'})\n    if results.solver.termination_condition != TerminationCondition.optimal:\n        print(f\"Initial solve failed: {results.solver.termination_condition}\")\n        raise RuntimeError(\"Initial solve failed after initialization\")\n    \n    # Now unfix pump pressures for optimization\n    for i in range(1, config_data['stage_count'] + 1):\n        pump = getattr(m.fs, f\"pump{i}\")\n        current_pressure = value(pump.outlet.pressure[0])\n        \n        # Unfix and set bounds\n        pump.outlet.pressure[0].unfix()\n        pump.outlet.pressure[0].setlb(5e5)   # 5 bar minimum\n        pump.outlet.pressure[0].setub(80e5)  # 80 bar maximum\n        \n        print(f\"  Stage {i}: Unfixed at {current_pressure/1e5:.1f} bar, bounds: [5, 80] bar\")\n    \n    # Add recovery constraints to match configuration targets\n    print(\"\\nAdding recovery constraints...\")\n    from pyomo.environ import Constraint\n    \n    for i in range(1, config_data['stage_count'] + 1):\n        ro = getattr(m.fs, f\"ro_stage{i}\")\n        stage_data = config_data['stages'][i-1]\n        target_recovery = stage_data.get('stage_recovery', 0.5)\n        \n        # Add constraint for target recovery\n        setattr(m.fs, f\"recovery_constraint_stage{i}\",\n            Constraint(\n                expr=ro.recovery_mass_phase_comp[0, 'Liq', 'H2O'] == target_recovery\n            )\n        )\n        print(f\"  Stage {i}: Target recovery = {target_recovery:.1%}\")\n    \n    # Note: We do NOT add explicit minimum driving pressure constraints for SD model\n    # The SD model's flux equation automatically ensures sufficient driving pressure:\n    # flux = A × ρ × ((P_feed - P_perm) - (π_feed - π_perm))\n    # If pressure is insufficient, flux will be zero/negative and recovery targets cannot be met\n    print(\"\\nNote: SD model flux equation automatically handles driving pressure requirements\")\n    \n    # Check DOF after adding constraints\n    print(f\"\\nDegrees of freedom after recovery constraints: {degrees_of_freedom(m)}\")\n    \n    # Solve with recovery constraints and unfixed pumps\n    print(\"\\nSolving model with recovery constraints...\")\n    results = solver.solve(m, tee=True, options={'linear_solver': 'ma27'})\n    \n    if results.solver.termination_condition == TerminationCondition.optimal:\n        # Verify recoveries match targets\n        print(\"\\nVerifying recovery targets:\")\n        max_error = 0\n        for i in range(1, config_data['stage_count'] + 1):\n            ro = getattr(m.fs, f\"ro_stage{i}\")\n            actual_recovery = value(ro.recovery_mass_phase_comp[0, 'Liq', 'H2O'])\n            target_recovery = config_data['stages'][i-1].get('stage_recovery', 0.5)\n            error = abs(actual_recovery - target_recovery)\n            max_error = max(max_error, error)\n            print(f\"  Stage {i}: Target = {target_recovery:.4f}, Actual = {actual_recovery:.4f}, Error = {error:.2e}\")\n        \n        if max_error > 1e-4:\n            print(f\"\\nWARNING: Maximum recovery error ({max_error:.2e}) exceeds tolerance!\")\n        else:\n            print(f\"\\nSUCCESS: All recoveries match targets within tolerance!\")\n        \n        print(\"\\nOptimized conditions (SD model):\")\n        for i in range(1, config_data['stage_count'] + 1):\n            pump = getattr(m.fs, f\"pump{i}\")\n            ro = getattr(m.fs, f\"ro_stage{i}\")\n            \n            # Get pressures\n            feed_pressure = value(pump.outlet.pressure[0]) / 1e5\n            perm_pressure = value(ro.permeate.pressure[0]) / 1e5\n            \n            # Get osmotic pressures\n            # Check if we have interface properties (for models with concentration polarization)\n            if hasattr(ro.feed_side, 'properties_interface'):\n                # For models with concentration polarization\n                feed_osm = value(ro.feed_side.properties_interface[0].pressure_osm_phase[('Liq',)]) / 1e5\n            else:\n                # For simple models without concentration polarization, use inlet properties\n                feed_osm = value(ro.feed_side.properties_in[0].pressure_osm_phase[('Liq',)]) / 1e5\n            \n            # Permeate osmotic pressure\n            perm_osm = value(ro.mixed_permeate[0].pressure_osm_phase[('Liq',)]) / 1e5\n            \n            # Calculate net driving pressure for SD model\n            net_driving = (feed_pressure - perm_pressure) - (feed_osm - perm_osm)\n            \n            print(f\"\\n  Stage {i}:\")\n            print(f\"    Feed pressure: {feed_pressure:.2f} bar\")\n            print(f\"    Feed osmotic pressure: {feed_osm:.2f} bar\")\n            print(f\"    Permeate osmotic pressure: {perm_osm:.2f} bar\")\n            print(f\"    Net driving pressure: {net_driving:.2f} bar\")\n            \n            # Show concentrate TDS to verify pressure scaling\n            conc_tds_frac = value(ro.retentate.flow_mass_phase_comp[0, 'Liq', 'TDS'] / \n                                 (ro.retentate.flow_mass_phase_comp[0, 'Liq', 'H2O'] + \n                                  ro.retentate.flow_mass_phase_comp[0, 'Liq', 'TDS']))\n            conc_tds_ppm = conc_tds_frac * 1e6\n            print(f\"    Concentrate TDS: {conc_tds_ppm:.0f} ppm\")\n        \n        # Calculate total power\n        total_power_kw = sum(\n            value(getattr(m.fs, f\"pump{i}\").work_mechanical[0]) / 1000\n            for i in range(1, config_data['stage_count'] + 1)\n        )\n        print(f\"\\nTotal power consumption: {total_power_kw:.1f} kW\")\n    \n    return results",
   "execution_count": null,
   "outputs": []
  },
  {
   "cell_type": "code",
   "execution_count": null,
   "metadata": {},
   "outputs": [],
   "source": "# Build model with correct membrane property structure\ndef build_ro_model(config_data, feed_salinity_ppm, feed_temperature_c, membrane_type):\n    \"\"\"\n    Build full WaterTAP RO model with calculated concentration polarization.\n    \"\"\"\n    # Create concrete model\n    m = ConcreteModel()\n    m.fs = FlowsheetBlock(dynamic=False)\n    \n    # Import TransportModel\n    from watertap.core.membrane_channel_base import TransportModel\n    \n    # Property package - using seawater\n    m.fs.properties = props_sw.SeawaterParameterBlock()\n    \n    # Feed conditions\n    feed_flow_m3_s = config_data['feed_flow_m3h'] / 3600  # Convert to m³/s\n    feed_mass_frac = feed_salinity_ppm / 1e6  # Convert ppm to mass fraction\n    \n    # Create feed unit\n    m.fs.feed = Feed(property_package=m.fs.properties)\n    \n    # Build stages\n    n_stages = config_data['stage_count']\n    \n    # First, create all RO stages and pumps using setattr for proper parent assignment\n    for i in range(1, n_stages + 1):\n        # Create feed pump for stage using setattr\n        setattr(m.fs, f\"pump{i}\", Pump(property_package=m.fs.properties))\n        \n        # Create RO stage with full configuration and SD model\n        setattr(m.fs, f\"ro_stage{i}\", ReverseOsmosis0D(\n            property_package=m.fs.properties,\n            has_pressure_change=True,\n            concentration_polarization_type=ConcentrationPolarizationType.calculated,\n            mass_transfer_coefficient=MassTransferCoefficient.calculated,\n            pressure_change_type=PressureChangeType.fixed_per_stage,\n            transport_model=TransportModel.SD  # Use SD model for consistency\n        ))\n        \n        # Create permeate product for each stage\n        setattr(m.fs, f\"stage_product{i}\", Product(property_package=m.fs.properties))\n    \n    # Create final concentrate product\n    m.fs.concentrate_product = Product(property_package=m.fs.properties)\n    \n    # Connect feed to first pump\n    m.fs.feed_to_pump1 = Arc(\n        source=m.fs.feed.outlet,\n        destination=m.fs.pump1.inlet\n    )\n    \n    # Connect first pump to first RO\n    m.fs.pump1_to_ro1 = Arc(\n        source=m.fs.pump1.outlet,\n        destination=m.fs.ro_stage1.inlet\n    )\n    \n    # Connect permeate from first RO to product\n    m.fs.ro1_perm_to_prod = Arc(\n        source=m.fs.ro_stage1.permeate,\n        destination=m.fs.stage_product1.inlet\n    )\n    \n    # Connect stages\n    if n_stages > 1:\n        for i in range(1, n_stages):\n            # Connect concentrate of stage i to pump i+1\n            setattr(\n                m.fs, f\"stage{i}_to_pump{i+1}\",\n                Arc(\n                    source=getattr(m.fs, f\"ro_stage{i}\").retentate,\n                    destination=getattr(m.fs, f\"pump{i+1}\").inlet\n                )\n            )\n            # Connect pump i+1 to stage i+1\n            setattr(\n                m.fs, f\"pump{i+1}_to_stage{i+1}\",\n                Arc(\n                    source=getattr(m.fs, f\"pump{i+1}\").outlet,\n                    destination=getattr(m.fs, f\"ro_stage{i+1}\").inlet\n                )\n            )\n            # Connect permeate to product\n            setattr(\n                m.fs, f\"ro{i+1}_perm_to_prod{i+1}\",\n                Arc(\n                    source=getattr(m.fs, f\"ro_stage{i+1}\").permeate,\n                    destination=getattr(m.fs, f\"stage_product{i+1}\").inlet\n                )\n            )\n    \n    # Connect final concentrate to product\n    final_stage = n_stages\n    m.fs.final_conc_arc = Arc(\n        source=getattr(m.fs, f\"ro_stage{final_stage}\").retentate,\n        destination=m.fs.concentrate_product.inlet\n    )\n    \n    # Apply arcs to expand the network\n    TransformationFactory(\"network.expand_arcs\").apply_to(m)\n    \n    # NOW set membrane properties after model structure is built\n    for i in range(1, n_stages + 1):\n        stage_data = config_data['stages'][i-1]\n        ro = getattr(m.fs, f\"ro_stage{i}\")\n        \n        # Default membrane properties based on type\n        if membrane_type == \"seawater\":\n            ro.A_comp.fix(1.5e-12)  # m/s/Pa\n            ro.B_comp[0, 'TDS'].fix(1.0e-8)  # m/s\n        else:  # brackish\n            ro.A_comp.fix(4.2e-12)  # m/s/Pa\n            ro.B_comp[0, 'TDS'].fix(3.5e-8)  # m/s\n        \n        # Set membrane area\n        # Handle both 'membrane_area_m2' and 'area_m2' field names for compatibility\n        if 'membrane_area_m2' in stage_data:\n            required_area = stage_data['membrane_area_m2']\n        elif 'area_m2' in stage_data:\n            required_area = stage_data['area_m2']\n        else:\n            # Calculate from vessel count if not provided\n            n_vessels = stage_data.get('n_vessels', stage_data.get('vessel_count', 1))\n            vessel_area = 37.16 * 7  # Default: 37.16 m² per element * 7 elements per vessel\n            required_area = n_vessels * vessel_area\n        \n        ro.area.fix(required_area)\n        \n        # Fixed pressure drop\n        ro.deltaP.fix(-0.5e5 if i == 1 else -0.7e5)  # Pa\n        ro.permeate.pressure[0].fix(101325)  # 1 atm\n        \n        # Channel properties\n        ro.feed_side.channel_height.fix(0.001)  # 1 mm\n        ro.feed_side.spacer_porosity.fix(0.85)\n    \n    # Set feed conditions\n    m.fs.feed.outlet.flow_mass_phase_comp[0, 'Liq', 'H2O'].fix(\n        feed_flow_m3_s * 1000 * (1 - feed_mass_frac)\n    )\n    m.fs.feed.outlet.flow_mass_phase_comp[0, 'Liq', 'TDS'].fix(\n        feed_flow_m3_s * 1000 * feed_mass_frac\n    )\n    m.fs.feed.outlet.temperature.fix(273.15 + feed_temperature_c)\n    m.fs.feed.outlet.pressure.fix(101325)  # 1 atm\n    \n    # Set pump efficiencies\n    for i in range(1, n_stages + 1):\n        getattr(m.fs, f\"pump{i}\").efficiency_pump.fix(0.8)\n    \n    # Set scaling\n    m.fs.properties.set_default_scaling(\"flow_mass_phase_comp\", 1, index=(\"Liq\", \"H2O\"))\n    m.fs.properties.set_default_scaling(\"flow_mass_phase_comp\", 1e2, index=(\"Liq\", \"TDS\"))\n    calculate_scaling_factors(m)\n    \n    return m"
  },
  {
   "cell_type": "code",
   "execution_count": null,
   "metadata": {},
   "outputs": [],
   "source": [
    "def extract_results(m, config_data):\n",
    "    \"\"\"\n",
    "    Extract simulation results from solved model.\n",
    "    \"\"\"\n",
    "    results = {\n",
    "        \"status\": \"success\",\n",
    "        \"performance\": {},\n",
    "        \"economics\": {},\n",
    "        \"stage_results\": [],\n",
    "        \"mass_balance\": {}\n",
    "    }\n",
    "    \n",
    "    # Overall performance\n",
    "    total_feed_flow = value(m.fs.pump1.inlet.flow_mass_phase_comp[0, 'Liq', 'H2O'] + \n",
    "                           m.fs.pump1.inlet.flow_mass_phase_comp[0, 'Liq', 'TDS'])\n",
    "    \n",
    "    total_permeate_flow = sum(\n",
    "        value(getattr(m.fs, f\"ro_stage{i}\").permeate.flow_mass_phase_comp[0, 'Liq', 'H2O'] + \n",
    "              getattr(m.fs, f\"ro_stage{i}\").permeate.flow_mass_phase_comp[0, 'Liq', 'TDS'])\n",
    "        for i in range(1, config_data['stage_count'] + 1)\n",
    "    )\n",
    "    \n",
    "    results[\"performance\"][\"total_recovery\"] = total_permeate_flow / total_feed_flow\n",
    "    \n",
    "    # Energy consumption\n",
    "    total_power_kw = sum(\n",
    "        value(getattr(m.fs, f\"pump{i}\").work_mechanical[0]) / 1000  # Convert W to kW\n",
    "        for i in range(1, config_data['stage_count'] + 1)\n",
    "    )\n",
    "    \n",
    "    results[\"economics\"][\"total_power_kw\"] = total_power_kw\n",
    "    results[\"economics\"][\"specific_energy_kwh_m3\"] = (\n",
    "        total_power_kw / (total_permeate_flow * 3.6)  # m�/s to m�/h\n",
    "    )\n",
    "    \n",
    "    # Stage results\n",
    "    for i in range(1, config_data['stage_count'] + 1):\n",
    "        ro = getattr(m.fs, f\"ro_stage{i}\")\n",
    "        pump = getattr(m.fs, f\"pump{i}\")\n",
    "        \n",
    "        stage_result = {\n",
    "            \"stage_number\": i,\n",
    "            \"feed_pressure_bar\": value(ro.inlet.pressure[0]) / 1e5,\n",
    "            \"permeate_flow_m3h\": value(\n",
    "                ro.permeate.flow_mass_phase_comp[0, 'Liq', 'H2O'] + \n",
    "                ro.permeate.flow_mass_phase_comp[0, 'Liq', 'TDS']\n",
    "            ) * 3.6,  # kg/s to m�/h\n",
    "            \"permeate_tds_ppm\": value(\n",
    "                ro.permeate.flow_mass_phase_comp[0, 'Liq', 'TDS'] /\n",
    "                (ro.permeate.flow_mass_phase_comp[0, 'Liq', 'H2O'] + \n",
    "                 ro.permeate.flow_mass_phase_comp[0, 'Liq', 'TDS'])\n",
    "            ) * 1e6,\n",
    "            \"concentrate_flow_m3h\": value(\n",
    "                ro.retentate.flow_mass_phase_comp[0, 'Liq', 'H2O'] + \n",
    "                ro.retentate.flow_mass_phase_comp[0, 'Liq', 'TDS']\n",
    "            ) * 3.6,\n",
    "            \"pump_power_kw\": value(pump.work_mechanical[0]) / 1000\n",
    "        }\n",
    "        results[\"stage_results\"].append(stage_result)\n",
    "    \n",
    "    # Mass balance verification\n",
    "    results[\"mass_balance\"][\"feed_flow_m3h\"] = total_feed_flow * 3.6\n",
    "    results[\"mass_balance\"][\"total_permeate_m3h\"] = total_permeate_flow * 3.6\n",
    "    \n",
    "    final_stage = config_data['stage_count']\n",
    "    final_ro = getattr(m.fs, f\"ro_stage{final_stage}\")\n",
    "    results[\"mass_balance\"][\"final_concentrate_m3h\"] = value(\n",
    "        final_ro.retentate.flow_mass_phase_comp[0, 'Liq', 'H2O'] + \n",
    "        final_ro.retentate.flow_mass_phase_comp[0, 'Liq', 'TDS']\n",
    "    ) * 3.6\n",
    "    \n",
    "    return results"
   ]
  },
  {
   "cell_type": "markdown",
   "metadata": {},
   "source": [
    "## Run Simulation"
   ]
  },
  {
   "cell_type": "code",
   "execution_count": null,
   "metadata": {},
   "outputs": [],
   "source": [
    "# Build model\n",
    "try:\n",
    "    print(\"Building simplified RO model...\")\n",
    "    m = build_ro_model_simple(configuration, feed_salinity_ppm, feed_temperature_c, membrane_type)\n",
    "    \n",
    "    print(\"\\nInitializing and solving model...\")\n",
    "    solve_results = initialize_and_solve_elegant(m, configuration, optimize_pumps)\n",
    "    \n",
    "    if solve_results.solver.termination_condition == TerminationCondition.optimal:\n",
    "        print(\"\\nExtracting results...\")\n",
    "        results = extract_results(m, configuration)\n",
    "        results[\"message\"] = \"Simulation completed successfully\"\n",
    "    else:\n",
    "        results = {\n",
    "            \"status\": \"error\",\n",
    "            \"message\": f\"Solver failed: {solve_results.solver.termination_condition}\",\n",
    "            \"performance\": {},\n",
    "            \"economics\": {},\n",
    "            \"stage_results\": [],\n",
    "            \"mass_balance\": {}\n",
    "        }\n",
    "        \n",
    "except Exception as e:\n",
    "    results = {\n",
    "        \"status\": \"error\",\n",
    "        \"message\": f\"Simulation error: {str(e)}\",\n",
    "        \"performance\": {},\n",
    "        \"economics\": {},\n",
    "        \"stage_results\": [],\n",
    "        \"mass_balance\": {}\n",
    "    }\n",
    "\n",
    "print(\"\\nSimulation complete.\")"
   ]
  },
  {
   "cell_type": "markdown",
   "metadata": {},
   "source": [
    "## Display Results"
   ]
  },
  {
   "cell_type": "code",
   "execution_count": null,
   "metadata": {},
   "outputs": [],
   "source": [
    "# Display results summary\n",
    "import json\n",
    "print(\"\\n\" + \"=\"*50)\n",
    "print(\"SIMULATION RESULTS\")\n",
    "print(\"=\"*50)\n",
    "print(json.dumps(results, indent=2))"
   ]
  },
  {
   "cell_type": "code",
   "execution_count": null,
   "metadata": {
    "tags": [
     "results"
    ]
   },
   "outputs": [],
   "source": [
    "# Results cell - tagged for papermill to extract\n",
    "results"
   ]
  }
 ],
 "metadata": {
  "kernelspec": {
   "display_name": "Python (python3)",
   "language": "python",
   "name": "python3"
  },
  "language_info": {
   "codemirror_mode": {
    "name": "ipython",
    "version": 3
   },
   "file_extension": ".py",
   "mimetype": "text/x-python",
   "name": "python",
   "nbconvert_exporter": "python",
   "pygments_lexer": "ipython3",
   "version": "3.12.0"
  }
 },
 "nbformat": 4,
 "nbformat_minor": 4
}